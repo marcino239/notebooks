{
 "cells": [
  {
   "cell_type": "markdown",
   "metadata": {},
   "source": [
    "Word vectors is a cool idea to pack word information in to an $R^n$ vector.  The difference from the bag of words method is that $n$ is smaller than the size of dictionary.  Aditionally as a side effect of optimisation word vectors have very interesting features.  \n",
    "  \n",
    "Word vectors are result of maximisation of probability of finding word in a specifc context:\n",
    "\n",
    "$$ J( \\theta ) = \\frac{1}{T} \\sum_{i=1}^T \\sum_{-c\\le j\\le c, j\\ne 0} \\log p( w_{i+j} \\mid w_i ) $$\n",
    "\n",
    "The probability function $ p( w_{i+j} \\mid w_i ) $ can take many forms, however the original paper uses a form of soft max [1]:\n",
    "\n",
    "$$ p( w_{i+j} \\mid w_i ) = \\frac{ e^{ v_{w_o}^T v_{w_i} } }{ \\sum_{w=1}^W e^{ v_{w_o}^T v_{w_i} } } $$\n",
    "\n",
    "There are couple of problems when searching parameters for an above function as computing the denominator is expensive and created matrix can be very large depending on number of words in the dictionary.  For this reason we will use gensim package that wraps the search algorithm [2].  \n",
    "\n",
    "This code is partially based on Kaggle's Bag of Words meets Bag of Popcorn [3]\n",
    "\n",
    "[1 - Efficient Estimation of Word Representations in Vector Space](http://arxiv.org/abs/1301.3781)  \n",
    "[2 - gensim: Topic modelling for humans - Radim Řehůřek](https://radimrehurek.com/gensim/)  \n",
    "[3 - Word Vectors](https://www.kaggle.com/c/word2vec-nlp-tutorial/details/part-2-word-vectors)"
   ]
  },
  {
   "cell_type": "code",
   "execution_count": 1,
   "metadata": {
    "collapsed": true
   },
   "outputs": [],
   "source": [
    "%matplotlib inline\n",
    "\n",
    "import numpy as np\n",
    "import pandas as pd\n",
    "import gensim\n",
    "import logging\n",
    "import re\n",
    "import nltk.data\n",
    "\n",
    "from bs4 import BeautifulSoup\n",
    "from matplotlib import pyplot as plt\n",
    "from nltk.corpus import stopwords"
   ]
  },
  {
   "cell_type": "code",
   "execution_count": 2,
   "metadata": {
    "collapsed": false
   },
   "outputs": [
    {
     "name": "stdout",
     "output_type": "stream",
     "text": [
      "train shape: (16554, 3)\n",
      "test shape: (8446, 3)\n",
      "unlabelled shape: (50000, 2)\n"
     ]
    }
   ],
   "source": [
    "# load data\n",
    "df = pd.read_csv( 'labeledTrainData.tsv', header=0, delimiter='\\t', quoting=3 )\n",
    "df_unlabelled = pd.read_csv( 'unlabeledTrainData.tsv', header=0, delimiter='\\t', quoting=3 )\n",
    "\n",
    "# train test / ratio of 0.66\n",
    "tt_index = np.random.binomial( 1, 0.66, size=df.shape[0] )\n",
    "train = df[ tt_index == 1 ]\n",
    "test = df[ tt_index == 0 ]\n",
    "\n",
    "print( 'train shape: {0}'.format( train.shape ) )\n",
    "print( 'test shape: {0}'.format( test.shape ) )\n",
    "print( 'unlabelled shape: {0}'.format( df_unlabelled.shape ) )\n"
   ]
  },
  {
   "cell_type": "code",
   "execution_count": 3,
   "metadata": {
    "collapsed": true
   },
   "outputs": [],
   "source": [
    "# borrowed from Kaggle https://www.kaggle.com/c/word2vec-nlp-tutorial/details/part-2-word-vectors\n",
    "def review_to_wordlist( review, remove_stopwords=False ):\n",
    "    # remove HTML\n",
    "    review_text = BeautifulSoup(review).get_text()\n",
    "    review_text = re.sub(\"[^a-zA-Z]\",\" \", review_text)\n",
    "    words = review_text.lower().split()\n",
    "    if remove_stopwords:\n",
    "        stops = set(stopwords.words(\"english\"))\n",
    "        words = [w for w in words if not w in stops]\n",
    "    return ( words )\n",
    "\n",
    "# Define a function to split a review into parsed sentences\n",
    "def review_to_sentences( review, tokenizer, remove_stopwords=False ):\n",
    "    raw_sentences = tokenizer.tokenize( review.strip().decode('utf8', 'ignore') )\n",
    "    sentences = []\n",
    "    for raw_sentence in raw_sentences:\n",
    "        if len(raw_sentence) > 0:\n",
    "            sentences.append( review_to_wordlist( raw_sentence, remove_stopwords ))\n",
    "    return sentences"
   ]
  },
  {
   "cell_type": "code",
   "execution_count": 4,
   "metadata": {
    "collapsed": false
   },
   "outputs": [
    {
     "name": "stderr",
     "output_type": "stream",
     "text": [
      "/usr/local/lib/python2.7/dist-packages/bs4/__init__.py:166: UserWarning: No parser was explicitly specified, so I'm using the best available HTML parser for this system (\"lxml\"). This usually isn't a problem, but if you run this code on another system, or in a different virtual environment, it may use a different parser and behave differently.\n",
      "\n",
      "To get rid of this warning, change this:\n",
      "\n",
      " BeautifulSoup([your markup])\n",
      "\n",
      "to this:\n",
      "\n",
      " BeautifulSoup([your markup], \"lxml\")\n",
      "\n",
      "  markup_type=markup_type))\n",
      "/usr/local/lib/python2.7/dist-packages/bs4/__init__.py:198: UserWarning: \".\" looks like a filename, not markup. You should probably open this file and pass the filehandle into Beautiful Soup.\n",
      "  '\"%s\" looks like a filename, not markup. You should probably open this file and pass the filehandle into Beautiful Soup.' % markup)\n",
      "/usr/local/lib/python2.7/dist-packages/bs4/__init__.py:207: UserWarning: \"http://www.happierabroad.com\"\" looks like a URL. Beautiful Soup is not an HTTP client. You should probably use an HTTP client to get the document behind the URL, and feed that document to Beautiful Soup.\n",
      "  '\"%s\" looks like a URL. Beautiful Soup is not an HTTP client. You should probably use an HTTP client to get the document behind the URL, and feed that document to Beautiful Soup.' % markup)\n",
      "/usr/local/lib/python2.7/dist-packages/bs4/__init__.py:207: UserWarning: \"http://www.archive.org/details/LovefromaStranger\"\" looks like a URL. Beautiful Soup is not an HTTP client. You should probably use an HTTP client to get the document behind the URL, and feed that document to Beautiful Soup.\n",
      "  '\"%s\" looks like a URL. Beautiful Soup is not an HTTP client. You should probably use an HTTP client to get the document behind the URL, and feed that document to Beautiful Soup.' % markup)\n",
      "/usr/local/lib/python2.7/dist-packages/bs4/__init__.py:207: UserWarning: \"http://www.loosechangeguide.com/LooseChangeGuide.html\"\" looks like a URL. Beautiful Soup is not an HTTP client. You should probably use an HTTP client to get the document behind the URL, and feed that document to Beautiful Soup.\n",
      "  '\"%s\" looks like a URL. Beautiful Soup is not an HTTP client. You should probably use an HTTP client to get the document behind the URL, and feed that document to Beautiful Soup.' % markup)\n",
      "/usr/local/lib/python2.7/dist-packages/bs4/__init__.py:207: UserWarning: \"http://www.msnbc.msn.com/id/4972055/site/newsweek/\"\" looks like a URL. Beautiful Soup is not an HTTP client. You should probably use an HTTP client to get the document behind the URL, and feed that document to Beautiful Soup.\n",
      "  '\"%s\" looks like a URL. Beautiful Soup is not an HTTP client. You should probably use an HTTP client to get the document behind the URL, and feed that document to Beautiful Soup.' % markup)\n",
      "/usr/local/lib/python2.7/dist-packages/bs4/__init__.py:198: UserWarning: \"..\" looks like a filename, not markup. You should probably open this file and pass the filehandle into Beautiful Soup.\n",
      "  '\"%s\" looks like a filename, not markup. You should probably open this file and pass the filehandle into Beautiful Soup.' % markup)\n",
      "/usr/local/lib/python2.7/dist-packages/bs4/__init__.py:207: UserWarning: \"http://www.youtube.com/watch?v=a0KSqelmgN8\"\" looks like a URL. Beautiful Soup is not an HTTP client. You should probably use an HTTP client to get the document behind the URL, and feed that document to Beautiful Soup.\n",
      "  '\"%s\" looks like a URL. Beautiful Soup is not an HTTP client. You should probably use an HTTP client to get the document behind the URL, and feed that document to Beautiful Soup.' % markup)\n",
      "/usr/local/lib/python2.7/dist-packages/bs4/__init__.py:207: UserWarning: \"http://jake-weird.blogspot.com/2007/08/beneath.html\"\" looks like a URL. Beautiful Soup is not an HTTP client. You should probably use an HTTP client to get the document behind the URL, and feed that document to Beautiful Soup.\n",
      "  '\"%s\" looks like a URL. Beautiful Soup is not an HTTP client. You should probably use an HTTP client to get the document behind the URL, and feed that document to Beautiful Soup.' % markup)\n"
     ]
    }
   ],
   "source": [
    "# Load the punkt tokenizer\n",
    "tokenizer = nltk.data.load('tokenizers/punkt/english.pickle')\n",
    "\n",
    "sentences = []\n",
    "for review in train[ 'review' ]:\n",
    "    sentences += review_to_sentences(review, tokenizer)\n",
    "\n",
    "for review in df_unlabelled[ 'review' ]:\n",
    "    sentences += review_to_sentences(review, tokenizer)"
   ]
  },
  {
   "cell_type": "code",
   "execution_count": 5,
   "metadata": {
    "collapsed": false
   },
   "outputs": [
    {
     "name": "stdout",
     "output_type": "stream",
     "text": [
      "total run time: 492.933614016 [s]\n"
     ]
    }
   ],
   "source": [
    "logging.basicConfig( format='%(asctime)s : %(levelname)s : %(message)s', level=logging.INFO )\n",
    "\n",
    "num_features = 300    # dimensionality                      \n",
    "min_word_count = 40   # minimum word count                        \n",
    "num_workers = 6       # number of threads to run in parallel\n",
    "context = 10          # context window size                                                                                    \n",
    "downsampling = 1e-3   # downsample setting for frequent words\n",
    "\n",
    "model = gensim.models.Word2Vec(sentences, workers=num_workers, \\\n",
    "            size=num_features, min_count = min_word_count, \\\n",
    "            window = context, sample = downsampling)\n",
    "\n",
    "# free memory\n",
    "model.init_sims( replace=True )\n",
    "\n",
    "# save model\n",
    "model_name = \"300features_40minwords_10context\"\n",
    "model.save(model_name)\n",
    "\n",
    "# stat\n",
    "print( 'total run time: {0} [s]'.format( model.total_train_time ) )"
   ]
  },
  {
   "cell_type": "code",
   "execution_count": 6,
   "metadata": {
    "collapsed": true
   },
   "outputs": [],
   "source": [
    "nan_words = {}\n",
    "\n",
    "def makeFeatureVec( words, model, num_features, index2word_set ):\n",
    "    featureVec = np.zeros((num_features,),dtype=\"float32\")\n",
    "    nwords = 0.\n",
    "\n",
    "    for word in words:\n",
    "        if word in index2word_set: \n",
    "            nwords = nwords + 1.\n",
    "            if np.isnan( model[ word ] ).any():\n",
    "                if word in nan_words:\n",
    "                    nan_words[ word ] += 1\n",
    "                else:\n",
    "                    nan_words[ word ] = 1\n",
    "    \n",
    "            featureVec = np.add(featureVec,model[word])\n",
    "    if nwords != 0:\n",
    "        featureVec = np.divide(featureVec,nwords)\n",
    "\n",
    "    return featureVec\n",
    "\n",
    "def getAvgFeatureVecs(reviews, model, num_features, index2word_set ):\n",
    "    counter = 0.\n",
    "    reviewFeatureVecs = np.zeros((len(reviews),num_features),dtype=\"float32\")\n",
    "\n",
    "    for review in reviews:\n",
    "       if counter % 1000 == 0.:\n",
    "           print \"Review %d of %d\" % (counter, len(reviews))\n",
    "       reviewFeatureVecs[counter] = makeFeatureVec(review, model, num_features, index2word_set )\n",
    "       counter = counter + 1.\n",
    "\n",
    "    return reviewFeatureVecs\n"
   ]
  },
  {
   "cell_type": "code",
   "execution_count": 7,
   "metadata": {
    "collapsed": false
   },
   "outputs": [
    {
     "name": "stdout",
     "output_type": "stream",
     "text": [
      "Review 0 of 16554\n",
      "Review 1000 of 16554\n",
      "Review 2000 of 16554\n",
      "Review 3000 of 16554\n",
      "Review 4000 of 16554\n",
      "Review 5000 of 16554\n",
      "Review 6000 of 16554\n",
      "Review 7000 of 16554\n",
      "Review 8000 of 16554\n",
      "Review 9000 of 16554\n",
      "Review 10000 of 16554\n",
      "Review 11000 of 16554\n",
      "Review 12000 of 16554\n",
      "Review 13000 of 16554\n",
      "Review 14000 of 16554\n",
      "Review 15000 of 16554\n",
      "Review 16000 of 16554\n",
      "Review 0 of 8446\n",
      "Review 1000 of 8446\n",
      "Review 2000 of 8446\n",
      "Review 3000 of 8446\n",
      "Review 4000 of 8446\n",
      "Review 5000 of 8446\n",
      "Review 6000 of 8446\n",
      "Review 7000 of 8446\n",
      "Review 8000 of 8446\n"
     ]
    },
    {
     "name": "stderr",
     "output_type": "stream",
     "text": [
      "/usr/local/lib/python2.7/dist-packages/ipykernel/__main__.py:29: DeprecationWarning: using a non-integer number instead of an integer will result in an error in the future\n"
     ]
    }
   ],
   "source": [
    "index2word_set = set( model.index2word )\n",
    "\n",
    "clean_train_reviews = []\n",
    "for review in train[ 'review' ]:\n",
    "    clean_train_reviews.append( review_to_wordlist( review, remove_stopwords=True ) )\n",
    "\n",
    "trainDataVecs = getAvgFeatureVecs( clean_train_reviews, model, num_features, index2word_set )\n",
    "\n",
    "clean_test_reviews = []\n",
    "for review in test[ 'review' ]:\n",
    "    clean_test_reviews.append( review_to_wordlist( review, remove_stopwords=True ) )\n",
    "\n",
    "testDataVecs = getAvgFeatureVecs( clean_test_reviews, model, num_features, index2word_set )"
   ]
  },
  {
   "cell_type": "code",
   "execution_count": 16,
   "metadata": {
    "collapsed": false
   },
   "outputs": [
    {
     "name": "stderr",
     "output_type": "stream",
     "text": [
      "[Parallel(n_jobs=1)]: Done   1 jobs       | elapsed:    8.1s\n",
      "[Parallel(n_jobs=1)]: Done  27 out of  27 | elapsed: 18.8min finished\n"
     ]
    },
    {
     "name": "stdout",
     "output_type": "stream",
     "text": [
      "Fitting 3 folds for each of 9 candidates, totalling 27 fits\n",
      "0.865047722605\n",
      "{'n_estimators': 1000, 'objective': 'binary:logistic', 'max_depth': 8}\n"
     ]
    }
   ],
   "source": [
    "from sklearn.grid_search import GridSearchCV\n",
    "import xgboost as xgb\n",
    "\n",
    "x_params = { 'max_depth': [ 4, 8, 12 ],\n",
    "             'n_estimators': [ 200, 500, 1000 ],\n",
    "             'objective': [ 'binary:logistic' ],\n",
    "           }\n",
    "\n",
    "xgb_model = xgb.XGBClassifier()\n",
    "\n",
    "clf = GridSearchCV(xgb_model, x_params, verbose=1, n_jobs=1)\n",
    "clf.fit( trainDataVecs, train[ 'sentiment' ] )\n",
    "\n",
    "print(clf.best_score_)\n",
    "print(clf.best_params_)"
   ]
  },
  {
   "cell_type": "code",
   "execution_count": 17,
   "metadata": {
    "collapsed": false
   },
   "outputs": [
    {
     "name": "stdout",
     "output_type": "stream",
     "text": [
      "score: 0.863840871418\n"
     ]
    }
   ],
   "source": [
    "score = clf.score( testDataVecs, test[ 'sentiment' ] )\n",
    "print( 'score: {0}'.format( score ) )"
   ]
  },
  {
   "cell_type": "code",
   "execution_count": 37,
   "metadata": {
    "collapsed": false
   },
   "outputs": [],
   "source": [
    "from sklearn.metrics import roc_curve, auc\n",
    "\n",
    "proba = clf.predict_proba( testDataVecs )[ :, 1 ]\n",
    "fpr, tpr, thresholds = roc_curve( test[ 'sentiment' ].ravel(), proba.ravel() )\n",
    "roc_auc = auc( fpr, tpr )"
   ]
  },
  {
   "cell_type": "code",
   "execution_count": 38,
   "metadata": {
    "collapsed": false
   },
   "outputs": [
    {
     "data": {
      "image/png": "[encoded data removed]",
      "text/plain": [
       "<matplotlib.figure.Figure at 0x7f32c654f5d0>"
      ]
     },
     "metadata": {},
     "output_type": "display_data"
    }
   ],
   "source": [
    "# Plot Precision-Recall curve\n",
    "plt.clf()\n",
    "plt.xlabel('Recall')\n",
    "plt.ylabel('Precision')\n",
    "plt.ylim([0.0, 1.05])\n",
    "plt.xlim([0.0, 1.0])\n",
    "\n",
    "plt.plot( fpr, tpr, label='ROC curve (area = %0.2f)' % roc_auc )\n",
    "plt.legend(loc=\"lower right\")\n",
    "plt.show()"
   ]
  },
  {
   "cell_type": "markdown",
   "metadata": {},
   "source": [
    "OK, AUC is 94% for word vectors vs 90% for simple bag of words.  Not bad ... but let's take a look at few data examples to see what's going on under the hood."
   ]
  },
  {
   "cell_type": "code",
   "execution_count": 59,
   "metadata": {
    "collapsed": false
   },
   "outputs": [
    {
     "name": "stdout",
     "output_type": "stream",
     "text": [
      "[14 19]\n"
     ]
    }
   ],
   "source": [
    "diffs = np.where( clf.predict( testDataVecs ) != test[ 'sentiment' ] )[0]\n",
    "\n",
    "# print 1st few differences\n",
    "print( diffs[ 1:3 ] )"
   ]
  },
  {
   "cell_type": "code",
   "execution_count": 57,
   "metadata": {
    "collapsed": false
   },
   "outputs": [
    {
     "data": {
      "text/plain": [
       "u'\"Okay, sorry, but I loved this movie. I just love the whole 80\\'s genre of these kind of movies, because you don\\'t see many like this one anymore! I want to ask all of you people who say this movie is just a rip-off, or a cheesy imitation, what is it imitating? I\\'ve never seen another movie like this one, well, not horror anyway.Basically its about the popular group in school, who like to make everyones lives living hell, so they decided to pick on this nerdy boy named Marty. It turns fatal when he really gets hurt from one of their little pranks.So, its like 10 years later, and the group of friends who hurt Marty start getting High School reunion letters. But...they are the only ones receiving them! So they return back to the old school, and one by one get knocked off by.......Yeah you probably know what happens!The only part that disappointed me was the very end. It could have been left off, or thought out better.I think you should give it a try, and try not to be to critical!~*~CupidGrl~*~\"'"
      ]
     },
     "execution_count": 57,
     "metadata": {},
     "output_type": "execute_result"
    }
   ],
   "source": [
    "BeautifulSoup( test.iloc[ 14, 2 ] ).get_text()"
   ]
  },
  {
   "cell_type": "code",
   "execution_count": 58,
   "metadata": {
    "collapsed": false
   },
   "outputs": [
    {
     "data": {
      "text/plain": [
       "u'\"A charming boy and his mother move to a middle of nowhere town, cats and death soon follow them. That about sums it up.I\\'ll admit that I am a little freaked out by cats after seeing this movie. But in all seriousness in spite of the numerous things that are wrong with this film, and believe me there is plenty of that to go around, it is overall a very enjoyable viewing experience.The characters are more like caricatures here with only their basis instincts to rely on. Fear, greed, pride lust or anger seems to be all that motivate these people. Although it can be argued that that seeming failing, in actuality, serves the telling of the story. The supernatural premise and the fact that it is a Stephen King screenplay(not that I have anything specific against Mr. King) are quite nicely supported by some interesting FX work, makeup and quite suitable music. The absolute gem of this film is without a doubt Alice Krige who plays Mary Brady, the otherworldly mother.King manages to take a simple story of outsider, or people who are a little different(okay - a lot in this case), trying to fit in and twists it into a campy over the top little horror gem that has to be in the collection of any horror fan.\"'"
      ]
     },
     "execution_count": 58,
     "metadata": {},
     "output_type": "execute_result"
    }
   ],
   "source": [
    "BeautifulSoup( test.iloc[ 19, 2 ] ).get_text()"
   ]
  },
  {
   "cell_type": "markdown",
   "metadata": {},
   "source": [
    "Well, hard to say what is driving these errors.  My bet is on double negations again, which simple classification methods will definitely strugle with.  \n",
    "For the next encounter with NLP we will bring heavy machinery: Recurrent Neural Networks and see how they would perform with this task."
   ]
  }
 ],
 "metadata": {
  "kernelspec": {
   "display_name": "Python 2",
   "language": "python",
   "name": "python2"
  },
  "language_info": {
   "codemirror_mode": {
    "name": "ipython",
    "version": 2
   },
   "file_extension": ".py",
   "mimetype": "text/x-python",
   "name": "python",
   "nbconvert_exporter": "python",
   "pygments_lexer": "ipython2",
   "version": "2.7.6"
  }
 },
 "nbformat": 4,
 "nbformat_minor": 0
}
