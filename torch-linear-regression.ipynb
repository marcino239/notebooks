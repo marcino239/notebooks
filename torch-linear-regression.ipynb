{
 "cells": [
  {
   "cell_type": "code",
   "execution_count": 1,
   "metadata": {
    "collapsed": false
   },
   "outputs": [],
   "source": [
    "require 'nn'\n",
    "require 'optim'"
   ]
  },
  {
   "cell_type": "code",
   "execution_count": 2,
   "metadata": {
    "collapsed": false
   },
   "outputs": [
    {
     "data": {
      "text/plain": [
       "true\t\n"
      ]
     },
     "execution_count": 2,
     "metadata": {},
     "output_type": "execute_result"
    }
   ],
   "source": [
    "require 'csvigo'"
   ]
  },
  {
   "cell_type": "code",
   "execution_count": 3,
   "metadata": {
    "collapsed": false
   },
   "outputs": [
    {
     "data": {
      "text/plain": [
       "<csv>\tparsing file: logistic-regression/example-logistic-regression.csv\t\n"
      ]
     },
     "execution_count": 3,
     "metadata": {},
     "output_type": "execute_result"
    },
    {
     "data": {
      "text/plain": [
       "<csv>\ttidying up entries\t\n"
      ]
     },
     "execution_count": 3,
     "metadata": {},
     "output_type": "execute_result"
    },
    {
     "data": {
      "text/plain": [
       "<csv>\treturning tidy table\t\n"
      ]
     },
     "execution_count": 3,
     "metadata": {},
     "output_type": "execute_result"
    }
   ],
   "source": [
    "loaded = csvigo.load('logistic-regression/example-logistic-regression.csv')"
   ]
  },
  {
   "cell_type": "code",
   "execution_count": 4,
   "metadata": {
    "collapsed": false
   },
   "outputs": [],
   "source": [
    "-- first convert each variable list to a tensor:\n",
    "brands = torch.Tensor(loaded.brand)\n",
    "females = torch.Tensor(loaded.female)\n",
    "ages = torch.Tensor(loaded.age)"
   ]
  },
  {
   "cell_type": "code",
   "execution_count": 5,
   "metadata": {
    "collapsed": false
   },
   "outputs": [],
   "source": [
    "-- copy all the input variables into a single tensor:\n",
    "dataset_inputs = torch.Tensor( (#brands)[1],2 )\n",
    "dataset_inputs[{ {},1 }] = females\n",
    "dataset_inputs[{ {},2 }] = ages"
   ]
  },
  {
   "cell_type": "code",
   "execution_count": 6,
   "metadata": {
    "collapsed": false
   },
   "outputs": [],
   "source": [
    "dataset_outputs = brands"
   ]
  },
  {
   "cell_type": "code",
   "execution_count": 7,
   "metadata": {
    "collapsed": false
   },
   "outputs": [],
   "source": [
    "numberOfBrands = torch.max(dataset_outputs) - torch.min(dataset_outputs) + 1"
   ]
  },
  {
   "cell_type": "code",
   "execution_count": 8,
   "metadata": {
    "collapsed": false
   },
   "outputs": [
    {
     "data": {
      "text/plain": [
       "    number of brands 3.000000\t\n",
       "           min brand 1.000000\t\n",
       "           max brand 3.000000\t\n",
       "          min female 0.000000\t\n",
       "          max female 1.000000\t\n",
       "             min age 24.000000\t\n",
       "             max age 38.000000\t\n"
      ]
     },
     "execution_count": 8,
     "metadata": {},
     "output_type": "execute_result"
    }
   ],
   "source": [
    "-- summarize the data\n",
    "function summarizeData()\n",
    "   function p(name,value) \n",
    "      print(string.format('%20s %f', name, value) )\n",
    "   end\n",
    "   p('number of brands', numberOfBrands)\n",
    "   p('min brand', torch.min(brands))\n",
    "   p('max brand', torch.max(brands))\n",
    "   \n",
    "   p('min female', torch.min(females))\n",
    "   p('max female', torch.max(females))\n",
    "   \n",
    "   p('min age', torch.min(ages))\n",
    "   p('max age', torch.max(ages))\n",
    "end\n",
    "summarizeData()"
   ]
  },
  {
   "cell_type": "code",
   "execution_count": 9,
   "metadata": {
    "collapsed": false
   },
   "outputs": [],
   "source": [
    "linLayer = nn.Linear(2,3)"
   ]
  },
  {
   "cell_type": "code",
   "execution_count": 10,
   "metadata": {
    "collapsed": false
   },
   "outputs": [],
   "source": [
    "softMaxLayer = nn.LogSoftMax()  -- the input and output are a single tensor"
   ]
  },
  {
   "cell_type": "code",
   "execution_count": 11,
   "metadata": {
    "collapsed": false
   },
   "outputs": [],
   "source": [
    "model = nn.Sequential()\n",
    "model:add(linLayer)\n",
    "model:add(softMaxLayer)\n"
   ]
  },
  {
   "cell_type": "code",
   "execution_count": 12,
   "metadata": {
    "collapsed": false
   },
   "outputs": [],
   "source": [
    "criterion = nn.ClassNLLCriterion()"
   ]
  },
  {
   "cell_type": "code",
   "execution_count": 13,
   "metadata": {
    "collapsed": false
   },
   "outputs": [],
   "source": [
    "x, dl_dx = model:getParameters()"
   ]
  },
  {
   "cell_type": "code",
   "execution_count": 14,
   "metadata": {
    "collapsed": false
   },
   "outputs": [],
   "source": [
    "feval = function(x_new)\n",
    "   -- set x to x_new, if differnt\n",
    "   -- (in this simple example, x_new will typically always point to x,\n",
    "   -- so the copy is really useless)\n",
    "   if x ~= x_new then\n",
    "      x:copy(x_new)\n",
    "   end\n",
    "\n",
    "   -- select a new training sample\n",
    "   _nidx_ = (_nidx_ or 0) + 1\n",
    "   if _nidx_ > (#dataset_inputs)[1] then _nidx_ = 1 end\n",
    "\n",
    "   local inputs = dataset_inputs[_nidx_]\n",
    "   local target = dataset_outputs[_nidx_]\n",
    "\n",
    "   -- reset gradients (gradients are always accumulated, to accomodate \n",
    "   -- batch methods)\n",
    "   dl_dx:zero()\n",
    "\n",
    "   -- evaluate the loss function and its derivative wrt x, for that sample\n",
    "   local loss_x = criterion:forward(model:forward(inputs), target)\n",
    "   model:backward(inputs, criterion:backward(model.output, target))\n",
    "\n",
    "   -- return loss(x) and dloss/dx\n",
    "   return loss_x, dl_dx\n",
    "end"
   ]
  },
  {
   "cell_type": "code",
   "execution_count": 15,
   "metadata": {
    "collapsed": false
   },
   "outputs": [
    {
     "data": {
      "text/plain": [
       "+++++++++++++++++++++++++++++++++++++++++++++++++++++++++++++++++++++\t\n",
       "\u001b[1;35mOverview\u001b[0m\n",
       "\n",
       "\n",
       "Each module of a network is composed of \u001b[0mModules\u001b[0m and there\n",
       "are several sub-classes of\u001b[0;32m Module \u001b[0mavailable: container classes like\n",
       "\u001b[0mSequential\u001b[0m, \u001b[0mParallel\u001b[0m and\n",
       "\u001b[0mConcat\u001b[0m , which can contain simple layers like\n",
       "\u001b[0mLinear\u001b[0m, \u001b[0mMean\u001b[0m, \u001b[0mMax\u001b[0m and\n",
       "\u001b[0mReshape\u001b[0m, as well as \u001b[0mconvolutional layers\u001b[0m, and \u001b[0mtransfer\n",
       "functions\u001b[0m like \u001b[0mTanh\u001b[0m.\n",
       "\n",
       "Loss functions are implemented as sub-classes of\n",
       "\u001b[0mCriterion\u001b[0m. They are helpful to train neural network on\n",
       "classical tasks.  Common criterions are the Mean Squared Error\n",
       "criterion implemented in \u001b[0mMSECriterion\u001b[0m and the\n",
       "cross-entropy criterion implemented in\n",
       "\u001b[0mClassNLLCriterion\u001b[0m.\n",
       "\n",
       "Finally, the \u001b[0mStochasticGradient\u001b[0m class provides a\n",
       "high level way to train the neural network of choice, even though it is\n",
       "easy with a simple for loop to \u001b[0mtrain a neural network yourself\u001b[0m.\t\n",
       "+++++++++++++++++++++++++++++++++++++++++++++++++++++++++++++++++++++\t\n",
       "\n"
      ]
     },
     "execution_count": 15,
     "metadata": {},
     "output_type": "execute_result"
    }
   ],
   "source": [
    "?nn"
   ]
  },
  {
   "cell_type": "code",
   "execution_count": 16,
   "metadata": {
    "collapsed": false
   },
   "outputs": [],
   "source": [
    "sgd_params = {\n",
    "   learningRate = 1e-3,\n",
    "   learningRateDecay = 1e-4,\n",
    "   weightDecay = 0,\n",
    "   momentum = 0\n",
    "}"
   ]
  },
  {
   "cell_type": "code",
   "execution_count": 17,
   "metadata": {
    "collapsed": false
   },
   "outputs": [],
   "source": [
    "epochs = 1e2"
   ]
  },
  {
   "cell_type": "code",
   "execution_count": 18,
   "metadata": {
    "collapsed": false
   },
   "outputs": [
    {
     "data": {
      "text/plain": [
       "epoch = 1 of 100 current loss = 1.4175289120598\t\n"
      ]
     },
     "execution_count": 18,
     "metadata": {},
     "output_type": "execute_result"
    },
    {
     "data": {
      "text/plain": [
       "epoch = 2 of 100 current loss = 1.1750891574662\t\n"
      ]
     },
     "execution_count": 18,
     "metadata": {},
     "output_type": "execute_result"
    },
    {
     "data": {
      "text/plain": [
       "epoch = 3 of 100 current loss = 1.1596910515246\t\n"
      ]
     },
     "execution_count": 18,
     "metadata": {},
     "output_type": "execute_result"
    },
    {
     "data": {
      "text/plain": [
       "epoch = 4 of 100 current loss = 1.1464358987213\t\n"
      ]
     },
     "execution_count": 18,
     "metadata": {},
     "output_type": "execute_result"
    },
    {
     "data": {
      "text/plain": [
       "epoch = 5 of 100 current loss = 1.1349194006369\t\n"
      ]
     },
     "execution_count": 18,
     "metadata": {},
     "output_type": "execute_result"
    },
    {
     "data": {
      "text/plain": [
       "epoch = 6 of 100 current loss = 1.1248309823568\t\n"
      ]
     },
     "execution_count": 18,
     "metadata": {},
     "output_type": "execute_result"
    },
    {
     "data": {
      "text/plain": [
       "epoch = 7 of 100 current loss = 1.1159286822297\t\n"
      ]
     },
     "execution_count": 18,
     "metadata": {},
     "output_type": "execute_result"
    },
    {
     "data": {
      "text/plain": [
       "epoch = 8 of 100 current loss = 1.1080215207884\t\n"
      ]
     },
     "execution_count": 18,
     "metadata": {},
     "output_type": "execute_result"
    },
    {
     "data": {
      "text/plain": [
       "epoch = 9 of 100 current loss = 1.1009569373353\t\n"
      ]
     },
     "execution_count": 18,
     "metadata": {},
     "output_type": "execute_result"
    },
    {
     "data": {
      "text/plain": [
       "epoch = 10 of 100 current loss = 1.0946117005299\t\n"
      ]
     },
     "execution_count": 18,
     "metadata": {},
     "output_type": "execute_result"
    },
    {
     "data": {
      "text/plain": [
       "epoch = 11 of 100 current loss = 1.0888852530292\t\n"
      ]
     },
     "execution_count": 18,
     "metadata": {},
     "output_type": "execute_result"
    },
    {
     "data": {
      "text/plain": [
       "epoch = 12 of 100 current loss = 1.0836947688747\t\n"
      ]
     },
     "execution_count": 18,
     "metadata": {},
     "output_type": "execute_result"
    },
    {
     "data": {
      "text/plain": [
       "epoch = 13 of 100 current loss = 1.0789714388401\t\n"
      ]
     },
     "execution_count": 18,
     "metadata": {},
     "output_type": "execute_result"
    },
    {
     "data": {
      "text/plain": [
       "epoch = 14 of 100 current loss = 1.0746576462414\t\n"
      ]
     },
     "execution_count": 18,
     "metadata": {},
     "output_type": "execute_result"
    },
    {
     "data": {
      "text/plain": [
       "epoch = 15 of 100 current loss = 1.0707047965371\t\n"
      ]
     },
     "execution_count": 18,
     "metadata": {},
     "output_type": "execute_result"
    },
    {
     "data": {
      "text/plain": [
       "epoch = 16 of 100 current loss = 1.0670716288645\t\n"
      ]
     },
     "execution_count": 18,
     "metadata": {},
     "output_type": "execute_result"
    },
    {
     "data": {
      "text/plain": [
       "epoch = 17 of 100 current loss = 1.0637228939464\t\n"
      ]
     },
     "execution_count": 18,
     "metadata": {},
     "output_type": "execute_result"
    },
    {
     "data": {
      "text/plain": [
       "epoch = 18 of 100 current loss = 1.0606283049789\t\n"
      ]
     },
     "execution_count": 18,
     "metadata": {},
     "output_type": "execute_result"
    },
    {
     "data": {
      "text/plain": [
       "epoch = 19 of 100 current loss = 1.0577617002947\t\n"
      ]
     },
     "execution_count": 18,
     "metadata": {},
     "output_type": "execute_result"
    },
    {
     "data": {
      "text/plain": [
       "epoch = 20 of 100 current loss = 1.0551003698593\t\n"
      ]
     },
     "execution_count": 18,
     "metadata": {},
     "output_type": "execute_result"
    },
    {
     "data": {
      "text/plain": [
       "epoch = 21 of 100 current loss = 1.0526245081019\t\n"
      ]
     },
     "execution_count": 18,
     "metadata": {},
     "output_type": "execute_result"
    },
    {
     "data": {
      "text/plain": [
       "epoch = 22 of 100 current loss = 1.0503167675579\t\n"
      ]
     },
     "execution_count": 18,
     "metadata": {},
     "output_type": "execute_result"
    },
    {
     "data": {
      "text/plain": [
       "epoch = 23 of 100 current loss = 1.0481618915276\t\n"
      ]
     },
     "execution_count": 18,
     "metadata": {},
     "output_type": "execute_result"
    },
    {
     "data": {
      "text/plain": [
       "epoch = 24 of 100 current loss = 1.0461464108177\t\n"
      ]
     },
     "execution_count": 18,
     "metadata": {},
     "output_type": "execute_result"
    },
    {
     "data": {
      "text/plain": [
       "epoch = 25 of 100 current loss = 1.0442583898983\t\n"
      ]
     },
     "execution_count": 18,
     "metadata": {},
     "output_type": "execute_result"
    },
    {
     "data": {
      "text/plain": [
       "epoch = 26 of 100 current loss = 1.0424872172025\t\n"
      ]
     },
     "execution_count": 18,
     "metadata": {},
     "output_type": "execute_result"
    },
    {
     "data": {
      "text/plain": [
       "epoch = 27 of 100 current loss = 1.04082342666\t\n"
      ]
     },
     "execution_count": 18,
     "metadata": {},
     "output_type": "execute_result"
    },
    {
     "data": {
      "text/plain": [
       "epoch = 28 of 100 current loss = 1.0392585485399\t\n"
      ]
     },
     "execution_count": 18,
     "metadata": {},
     "output_type": "execute_result"
    },
    {
     "data": {
      "text/plain": [
       "epoch = 29 of 100 current loss = 1.0377849815305\t\n"
      ]
     },
     "execution_count": 18,
     "metadata": {},
     "output_type": "execute_result"
    },
    {
     "data": {
      "text/plain": [
       "epoch = 30 of 100 current loss = 1.0363958850037\t\n"
      ]
     },
     "execution_count": 18,
     "metadata": {},
     "output_type": "execute_result"
    },
    {
     "data": {
      "text/plain": [
       "epoch = 31 of 100 current loss = 1.0350850860138\t\n"
      ]
     },
     "execution_count": 18,
     "metadata": {},
     "output_type": "execute_result"
    },
    {
     "data": {
      "text/plain": [
       "epoch = 32 of 100 current loss = 1.0338469998434\t\n"
      ]
     },
     "execution_count": 18,
     "metadata": {},
     "output_type": "execute_result"
    },
    {
     "data": {
      "text/plain": [
       "epoch = 33 of 100 current loss = 1.0326765615669\t\n"
      ]
     },
     "execution_count": 18,
     "metadata": {},
     "output_type": "execute_result"
    },
    {
     "data": {
      "text/plain": [
       "epoch = 34 of 100 current loss = 1.0315691668305\t\n"
      ]
     },
     "execution_count": 18,
     "metadata": {},
     "output_type": "execute_result"
    },
    {
     "data": {
      "text/plain": [
       "epoch = 35 of 100 current loss = 1.030520620636\t\n"
      ]
     },
     "execution_count": 18,
     "metadata": {},
     "output_type": "execute_result"
    },
    {
     "data": {
      "text/plain": [
       "epoch = 36 of 100 current loss = 1.0295270928527\t\n"
      ]
     },
     "execution_count": 18,
     "metadata": {},
     "output_type": "execute_result"
    },
    {
     "data": {
      "text/plain": [
       "epoch = 37 of 100 current loss = 1.0285850789353\t\n"
      ]
     },
     "execution_count": 18,
     "metadata": {},
     "output_type": "execute_result"
    },
    {
     "data": {
      "text/plain": [
       "epoch = 38 of 100 current loss = 1.0276913660037\t\n"
      ]
     },
     "execution_count": 18,
     "metadata": {},
     "output_type": "execute_result"
    },
    {
     "data": {
      "text/plain": [
       "epoch = 39 of 100 current loss = 1.0268430031009\t\n"
      ]
     },
     "execution_count": 18,
     "metadata": {},
     "output_type": "execute_result"
    },
    {
     "data": {
      "text/plain": [
       "epoch = 40 of 100 current loss = 1.0260372746649\t\n"
      ]
     },
     "execution_count": 18,
     "metadata": {},
     "output_type": "execute_result"
    },
    {
     "data": {
      "text/plain": [
       "epoch = 41 of 100 current loss = 1.0252716772251\t\n"
      ]
     },
     "execution_count": 18,
     "metadata": {},
     "output_type": "execute_result"
    },
    {
     "data": {
      "text/plain": [
       "epoch = 42 of 100 current loss = 1.0245438993651\t\n"
      ]
     },
     "execution_count": 18,
     "metadata": {},
     "output_type": "execute_result"
    },
    {
     "data": {
      "text/plain": [
       "epoch = 43 of 100 current loss = 1.0238518033075\t\n"
      ]
     },
     "execution_count": 18,
     "metadata": {},
     "output_type": "execute_result"
    },
    {
     "data": {
      "text/plain": [
       "epoch = 44 of 100 current loss = 1.0231934085872\t\n"
      ]
     },
     "execution_count": 18,
     "metadata": {},
     "output_type": "execute_result"
    },
    {
     "data": {
      "text/plain": [
       "epoch = 45 of 100 current loss = 1.022566877863\t\n"
      ]
     },
     "execution_count": 18,
     "metadata": {},
     "output_type": "execute_result"
    },
    {
     "data": {
      "text/plain": [
       "epoch = 46 of 100 current loss = 1.0219705042617\t\n"
      ]
     },
     "execution_count": 18,
     "metadata": {},
     "output_type": "execute_result"
    },
    {
     "data": {
      "text/plain": [
       "epoch = 47 of 100 current loss = 1.0214026997257\t\n"
      ]
     },
     "execution_count": 18,
     "metadata": {},
     "output_type": "execute_result"
    },
    {
     "data": {
      "text/plain": [
       "epoch = 48 of 100 current loss = 1.0208619846457\t\n"
      ]
     },
     "execution_count": 18,
     "metadata": {},
     "output_type": "execute_result"
    },
    {
     "data": {
      "text/plain": [
       "epoch = 49 of 100 current loss = 1.020346978849\t\n"
      ]
     },
     "execution_count": 18,
     "metadata": {},
     "output_type": "execute_result"
    },
    {
     "data": {
      "text/plain": [
       "epoch = 50 of 100 current loss = 1.0198563932841\t\n"
      ]
     },
     "execution_count": 18,
     "metadata": {},
     "output_type": "execute_result"
    },
    {
     "data": {
      "text/plain": [
       "epoch = 51 of 100 current loss = 1.0193890225234\t\n"
      ]
     },
     "execution_count": 18,
     "metadata": {},
     "output_type": "execute_result"
    },
    {
     "data": {
      "text/plain": [
       "epoch = 52 of 100 current loss = 1.0189437379996\t\n"
      ]
     },
     "execution_count": 18,
     "metadata": {},
     "output_type": "execute_result"
    },
    {
     "data": {
      "text/plain": [
       "epoch = 53 of 100 current loss = 1.0185194819539\t\n"
      ]
     },
     "execution_count": 18,
     "metadata": {},
     "output_type": "execute_result"
    },
    {
     "data": {
      "text/plain": [
       "epoch = 54 of 100 current loss = 1.0181152618911\t\n"
      ]
     },
     "execution_count": 18,
     "metadata": {},
     "output_type": "execute_result"
    },
    {
     "data": {
      "text/plain": [
       "epoch = 55 of 100 current loss = 1.0177301455857\t"
      ]
     },
     "execution_count": 18,
     "metadata": {},
     "output_type": "execute_result"
    },
    {
     "data": {
      "text/plain": [
       "\n"
      ]
     },
     "execution_count": 18,
     "metadata": {},
     "output_type": "execute_result"
    },
    {
     "data": {
      "text/plain": [
       "epoch = 56 of 100 current loss = 1.0173632565291\t\n"
      ]
     },
     "execution_count": 18,
     "metadata": {},
     "output_type": "execute_result"
    },
    {
     "data": {
      "text/plain": [
       "epoch = 57 of 100 current loss = 1.0170137698271\t\n"
      ]
     },
     "execution_count": 18,
     "metadata": {},
     "output_type": "execute_result"
    },
    {
     "data": {
      "text/plain": [
       "epoch = 58 of 100 current loss = 1.0166809083258\t\n"
      ]
     },
     "execution_count": 18,
     "metadata": {},
     "output_type": "execute_result"
    },
    {
     "data": {
      "text/plain": [
       "epoch = 59 of 100 current loss = 1.0163639393272\t\n"
      ]
     },
     "execution_count": 18,
     "metadata": {},
     "output_type": "execute_result"
    },
    {
     "data": {
      "text/plain": [
       "epoch = 60 of 100 current loss = 1.0160621713022\t\n"
      ]
     },
     "execution_count": 18,
     "metadata": {},
     "output_type": "execute_result"
    },
    {
     "data": {
      "text/plain": [
       "epoch = 61 of 100 current loss = 1.0157749509887\t\n"
      ]
     },
     "execution_count": 18,
     "metadata": {},
     "output_type": "execute_result"
    },
    {
     "data": {
      "text/plain": [
       "epoch = 62 of 100 current loss = 1.0155016608398\t\n"
      ]
     },
     "execution_count": 18,
     "metadata": {},
     "output_type": "execute_result"
    },
    {
     "data": {
      "text/plain": [
       "epoch = 63 of 100 current loss = 1.0152417165891\t\n"
      ]
     },
     "execution_count": 18,
     "metadata": {},
     "output_type": "execute_result"
    },
    {
     "data": {
      "text/plain": [
       "epoch = 64 of 100 current loss = 1.0149945649881\t\n"
      ]
     },
     "execution_count": 18,
     "metadata": {},
     "output_type": "execute_result"
    },
    {
     "data": {
      "text/plain": [
       "epoch = 65 of 100 current loss = 1.0147596818286\t\n"
      ]
     },
     "execution_count": 18,
     "metadata": {},
     "output_type": "execute_result"
    },
    {
     "data": {
      "text/plain": [
       "epoch = 66 of 100 current loss = 1.0145365699873\t\n"
      ]
     },
     "execution_count": 18,
     "metadata": {},
     "output_type": "execute_result"
    },
    {
     "data": {
      "text/plain": [
       "epoch = 67 of 100 current loss = 1.0143247577271\t\n"
      ]
     },
     "execution_count": 18,
     "metadata": {},
     "output_type": "execute_result"
    },
    {
     "data": {
      "text/plain": [
       "epoch = 68 of 100 current loss = 1.0141237970407\t\n"
      ]
     },
     "execution_count": 18,
     "metadata": {},
     "output_type": "execute_result"
    },
    {
     "data": {
      "text/plain": [
       "epoch = 69 of 100 current loss = 1.0139332622174\t\n"
      ]
     },
     "execution_count": 18,
     "metadata": {},
     "output_type": "execute_result"
    },
    {
     "data": {
      "text/plain": [
       "epoch = 70 of 100 current loss = 1.0137527484629\t\n"
      ]
     },
     "execution_count": 18,
     "metadata": {},
     "output_type": "execute_result"
    },
    {
     "data": {
      "text/plain": [
       "epoch = 71 of 100 current loss = 1.0135818706029\t\n"
      ]
     },
     "execution_count": 18,
     "metadata": {},
     "output_type": "execute_result"
    },
    {
     "data": {
      "text/plain": [
       "epoch = 72 of 100 current loss = 1.0134202619359\t\n"
      ]
     },
     "execution_count": 18,
     "metadata": {},
     "output_type": "execute_result"
    },
    {
     "data": {
      "text/plain": [
       "epoch = 73 of 100 current loss = 1.0132675730865\t\n"
      ]
     },
     "execution_count": 18,
     "metadata": {},
     "output_type": "execute_result"
    },
    {
     "data": {
      "text/plain": [
       "epoch = 74 of 100 current loss = 1.0131234710528\t\n"
      ]
     },
     "execution_count": 18,
     "metadata": {},
     "output_type": "execute_result"
    },
    {
     "data": {
      "text/plain": [
       "epoch = 75 of 100 current loss = 1.0129876382108\t\n"
      ]
     },
     "execution_count": 18,
     "metadata": {},
     "output_type": "execute_result"
    },
    {
     "data": {
      "text/plain": [
       "epoch = 76 of 100 current loss = 1.0128597714617\t\n"
      ]
     },
     "execution_count": 18,
     "metadata": {},
     "output_type": "execute_result"
    },
    {
     "data": {
      "text/plain": [
       "epoch = 77 of 100 current loss = 1.0127395814024\t\n"
      ]
     },
     "execution_count": 18,
     "metadata": {},
     "output_type": "execute_result"
    },
    {
     "data": {
      "text/plain": [
       "epoch = 78 of 100 current loss = 1.0126267915639\t\n"
      ]
     },
     "execution_count": 18,
     "metadata": {},
     "output_type": "execute_result"
    },
    {
     "data": {
      "text/plain": [
       "epoch = 79 of 100 current loss = 1.0125211376915\t\n"
      ]
     },
     "execution_count": 18,
     "metadata": {},
     "output_type": "execute_result"
    },
    {
     "data": {
      "text/plain": [
       "epoch = 80 of 100 current loss = 1.0124223670998\t\n"
      ]
     },
     "execution_count": 18,
     "metadata": {},
     "output_type": "execute_result"
    },
    {
     "data": {
      "text/plain": [
       "epoch = 81 of 100 current loss = 1.0123302380305\t\n"
      ]
     },
     "execution_count": 18,
     "metadata": {},
     "output_type": "execute_result"
    },
    {
     "data": {
      "text/plain": [
       "epoch = 82 of 100 current loss = 1.0122445190826\t\n"
      ]
     },
     "execution_count": 18,
     "metadata": {},
     "output_type": "execute_result"
    },
    {
     "data": {
      "text/plain": [
       "epoch = 83 of 100 current loss = 1.0121649886605\t\n"
      ]
     },
     "execution_count": 18,
     "metadata": {},
     "output_type": "execute_result"
    },
    {
     "data": {
      "text/plain": [
       "epoch = 84 of 100 current loss = 1.0120914344529\t\n"
      ]
     },
     "execution_count": 18,
     "metadata": {},
     "output_type": "execute_result"
    },
    {
     "data": {
      "text/plain": [
       "epoch = 85 of 100 current loss = 1.0120236529691\t\n"
      ]
     },
     "execution_count": 18,
     "metadata": {},
     "output_type": "execute_result"
    },
    {
     "data": {
      "text/plain": [
       "epoch = 86 of 100 current loss = 1.0119614490943\t\n"
      ]
     },
     "execution_count": 18,
     "metadata": {},
     "output_type": "execute_result"
    },
    {
     "data": {
      "text/plain": [
       "epoch = 87 of 100 current loss = 1.0119046356635\t\n"
      ]
     },
     "execution_count": 18,
     "metadata": {},
     "output_type": "execute_result"
    },
    {
     "data": {
      "text/plain": [
       "epoch = 88 of 100 current loss = 1.0118530330523\t\n"
      ]
     },
     "execution_count": 18,
     "metadata": {},
     "output_type": "execute_result"
    },
    {
     "data": {
      "text/plain": [
       "epoch = 89 of 100 current loss = 1.0118064688301\t\n"
      ]
     },
     "execution_count": 18,
     "metadata": {},
     "output_type": "execute_result"
    },
    {
     "data": {
      "text/plain": [
       "epoch = 90 of 100 current loss = 1.011764777379\t\n"
      ]
     },
     "execution_count": 18,
     "metadata": {},
     "output_type": "execute_result"
    },
    {
     "data": {
      "text/plain": [
       "epoch = 91 of 100 current loss = 1.0117277995896\t\n"
      ]
     },
     "execution_count": 18,
     "metadata": {},
     "output_type": "execute_result"
    },
    {
     "data": {
      "text/plain": [
       "epoch = 92 of 100 current loss = 1.0116953825693\t\n"
      ]
     },
     "execution_count": 18,
     "metadata": {},
     "output_type": "execute_result"
    },
    {
     "data": {
      "text/plain": [
       "epoch = 93 of 100 current loss = 1.0116673792301\t\n"
      ]
     },
     "execution_count": 18,
     "metadata": {},
     "output_type": "execute_result"
    },
    {
     "data": {
      "text/plain": [
       "epoch = 94 of 100 current loss = 1.0116436481386\t\n"
      ]
     },
     "execution_count": 18,
     "metadata": {},
     "output_type": "execute_result"
    },
    {
     "data": {
      "text/plain": [
       "epoch = 95 of 100 current loss = 1.0116240532373\t\n"
      ]
     },
     "execution_count": 18,
     "metadata": {},
     "output_type": "execute_result"
    },
    {
     "data": {
      "text/plain": [
       "epoch = 96 of 100 current loss = 1.0116084635622\t\n"
      ]
     },
     "execution_count": 18,
     "metadata": {},
     "output_type": "execute_result"
    },
    {
     "data": {
      "text/plain": [
       "epoch = 97 of 100 current loss = 1.0115967530372\t\n"
      ]
     },
     "execution_count": 18,
     "metadata": {},
     "output_type": "execute_result"
    },
    {
     "data": {
      "text/plain": [
       "epoch = 98 of 100 current loss = 1.0115888002392\t\n"
      ]
     },
     "execution_count": 18,
     "metadata": {},
     "output_type": "execute_result"
    },
    {
     "data": {
      "text/plain": [
       "epoch = 99 of 100 current loss = 1.0115844881925\t\n"
      ]
     },
     "execution_count": 18,
     "metadata": {},
     "output_type": "execute_result"
    },
    {
     "data": {
      "text/plain": [
       "epoch = 100 of 100 current loss = 1.0115837041716\t\n"
      ]
     },
     "execution_count": 18,
     "metadata": {},
     "output_type": "execute_result"
    }
   ],
   "source": [
    "for i = 1,epochs do\n",
    "\n",
    "   -- this variable is used to estimate the average loss\n",
    "   current_loss = 0\n",
    "\n",
    "   -- an epoch is a full loop over our training data\n",
    "   for i = 1,(#dataset_inputs)[1] do\n",
    "\n",
    "      -- optim contains several optimization algorithms. \n",
    "      -- All of these algorithms assume the same parameters:\n",
    "      --   + a closure that computes the loss, and its gradient wrt to x, \n",
    "      --     given a point x\n",
    "      --   + a point x\n",
    "      --   + some parameters, which are algorithm-specific\n",
    "\n",
    "      _,fs = optim.sgd(feval,x,sgd_params)\n",
    "\n",
    "      -- Functions in optim all return two things:\n",
    "      --   + the new x, found by the optimization method (here SGD)\n",
    "      --   + the value of the loss functions at all points that were used by\n",
    "      --     the algorithm. SGD only estimates the function once, so\n",
    "      --     that list just contains one value.\n",
    "\n",
    "      current_loss = current_loss + fs[1]\n",
    "   end\n",
    "\n",
    "   -- report average error on epoch\n",
    "   current_loss = current_loss / (#dataset_inputs)[1]\n",
    "   print('epoch = ' .. i .. \n",
    "\t ' of ' .. epochs .. \n",
    "\t ' current loss = ' .. current_loss)\n",
    "\n",
    "end"
   ]
  },
  {
   "cell_type": "code",
   "execution_count": 19,
   "metadata": {
    "collapsed": false
   },
   "outputs": [],
   "source": [
    "-- return index of largest value\n",
    "function maxIndex(a,b,c)\n",
    "   if a >=b and a >= c then return 1 \n",
    "   elseif b >= a and b >= c then return 2\n",
    "   else return 3 end\n",
    "end"
   ]
  },
  {
   "cell_type": "code",
   "execution_count": 20,
   "metadata": {
    "collapsed": false
   },
   "outputs": [
    {
     "data": {
      "text/plain": [
       " \t\n",
       "summary of data\t\n",
       "    number of brands 3.000000\t\n",
       "           min brand 1.000000\t\n",
       "           max brand 3.000000\t\n",
       "          min female 0.000000\t\n",
       "          max female 1.000000\t\n",
       "             min age 24.000000\t\n"
      ]
     },
     "execution_count": 20,
     "metadata": {},
     "output_type": "execute_result"
    },
    {
     "data": {
      "text/plain": [
       "             max age 38.000000\t\n",
       " \t\n",
       "training variables\t\n",
       "         evalCounter 73500.000000\t"
      ]
     },
     "execution_count": 20,
     "metadata": {},
     "output_type": "execute_result"
    },
    {
     "data": {
      "text/plain": [
       "\n",
       "   learningRateDecay 0.000100\t\n",
       "        learningRate 0.001000\t\n",
       "         weightDecay 0.000000\t\n",
       "            momentum 0.000000\t\n",
       "              epochs 100.000000\t\n",
       " \t\n",
       "current loss\t1.0115837041716\t\n",
       " \t\n",
       "          | actual probs      | text probs        | our probs         | best    \t\n",
       "female age| brnd1 brnd2 brnd3 | brnd1 brnd2 brnd3 | brnd1 brnd2 brnd3 | a t o\t\n"
      ]
     },
     "execution_count": 20,
     "metadata": {},
     "output_type": "execute_result"
    },
    {
     "data": {
      "text/plain": [
       "0      24 | 1.000 0.000 0.000 | 0.948 0.050 0.002 | 0.097 0.198 0.705 | 1 1 3\t\n",
       "0      25 | 0.000 0.000 0.000 | 0.926 0.071 0.004 | 0.094 0.198 0.708 | - 1 3\t\n"
      ]
     },
     "execution_count": 20,
     "metadata": {},
     "output_type": "execute_result"
    },
    {
     "data": {
      "text/plain": [
       "0      26 | 1.000 0.000 0.000 | 0.894 0.099 0.007 | 0.091 0.197 0.712 | 1 1 3\t\n",
       "0      27 | 1.000 0.000 0.000 | 0.851 0.136 0.013 | 0.088 0.197 0.715 | 1 1 3\t\n"
      ]
     },
     "execution_count": 20,
     "metadata": {},
     "output_type": "execute_result"
    },
    {
     "data": {
      "text/plain": [
       "0      28 | 0.667 0.000 0.333 | 0.793 0.183 0.024 | 0.085 0.196 0.719 | 1 1 3\t\n"
      ]
     },
     "execution_count": 20,
     "metadata": {},
     "output_type": "execute_result"
    },
    {
     "data": {
      "text/plain": [
       "0      29 | 0.875 0.125 0.000 | 0.718 0.240 0.042 | 0.082 0.196 0.722 | 1 1 3\t\n"
      ]
     },
     "execution_count": 20,
     "metadata": {},
     "output_type": "execute_result"
    },
    {
     "data": {
      "text/plain": [
       "0      30 | 0.500 0.333 0.167 | 0.625 0.302 0.073 | 0.079 0.195 0.725 | 1 1 3\t\n",
       "0      31 | 0.588 0.294 0.118 | 0.518 0.361 0.121 | 0.077 0.195 0.728 | 1 1 3\t\n"
      ]
     },
     "execution_count": 20,
     "metadata": {},
     "output_type": "execute_result"
    },
    {
     "data": {
      "text/plain": [
       "0      32 | 0.407 0.432 0.161 | 0.405 0.408 0.187 | 0.074 0.194 0.732 | 2 2 3\t\n"
      ]
     },
     "execution_count": 20,
     "metadata": {},
     "output_type": "execute_result"
    },
    {
     "data": {
      "text/plain": [
       "0      33 | 0.211 0.474 0.316 | 0.296 0.432 0.272 | 0.071 0.194 0.735 | 2 2 3\t"
      ]
     },
     "execution_count": 20,
     "metadata": {},
     "output_type": "execute_result"
    },
    {
     "data": {
      "text/plain": [
       "\n"
      ]
     },
     "execution_count": 20,
     "metadata": {},
     "output_type": "execute_result"
    },
    {
     "data": {
      "text/plain": [
       "0      34 | 0.167 0.542 0.292 | 0.203 0.427 0.370 | 0.069 0.193 0.738 | 2 2 3\t\n"
      ]
     },
     "execution_count": 20,
     "metadata": {},
     "output_type": "execute_result"
    },
    {
     "data": {
      "text/plain": [
       "0      35 | 0.000 0.182 0.818 | 0.131 0.397 0.472 | 0.067 0.193 0.741 | 3 3 3\t\n"
      ]
     },
     "execution_count": 20,
     "metadata": {},
     "output_type": "execute_result"
    },
    {
     "data": {
      "text/plain": [
       "0      36 | 0.133 0.333 0.533 | 0.080 0.350 0.571 | 0.064 0.192 0.743 | 3 3 3\t\n"
      ]
     },
     "execution_count": 20,
     "metadata": {},
     "output_type": "execute_result"
    },
    {
     "data": {
      "text/plain": [
       "0      37 | 0.200 0.200 0.600 | 0.046 0.294 0.660 | 0.062 0.192 0.746 | 3 3 3\t\n"
      ]
     },
     "execution_count": 20,
     "metadata": {},
     "output_type": "execute_result"
    },
    {
     "data": {
      "text/plain": [
       "0      38 | 0.000 0.278 0.722 | 0.026 0.239 0.735 | 0.060 0.191 0.749 | 3 3 3\t\n"
      ]
     },
     "execution_count": 20,
     "metadata": {},
     "output_type": "execute_result"
    },
    {
     "data": {
      "text/plain": [
       "1      24 | 0.000 0.000 0.000 | 0.915 0.082 0.003 | 0.073 0.189 0.738 | - 1 3\t\n"
      ]
     },
     "execution_count": 20,
     "metadata": {},
     "output_type": "execute_result"
    },
    {
     "data": {
      "text/plain": [
       "1      25 | 0.000 0.000 0.000 | 0.881 0.114 0.005 | 0.070 0.188 0.741 | - 1 3\t\n"
      ]
     },
     "execution_count": 20,
     "metadata": {},
     "output_type": "execute_result"
    },
    {
     "data": {
      "text/plain": [
       "1      26 | 0.000 0.000 0.000 | 0.834 0.156 0.010 | 0.068 0.188 0.744 | - 1 3\t\n"
      ]
     },
     "execution_count": 20,
     "metadata": {},
     "output_type": "execute_result"
    },
    {
     "data": {
      "text/plain": [
       "1      27 | 0.800 0.000 0.200 | 0.773 0.209 0.018 | 0.066 0.187 0.747 | 1 1 3\t\n"
      ]
     },
     "execution_count": 20,
     "metadata": {},
     "output_type": "execute_result"
    },
    {
     "data": {
      "text/plain": [
       "1      28 | 0.667 0.222 0.111 | 0.696 0.271 0.033 | 0.063 0.187 0.750 | 1 1 3\t\n"
      ]
     },
     "execution_count": 20,
     "metadata": {},
     "output_type": "execute_result"
    },
    {
     "data": {
      "text/plain": [
       "1      29 | 0.636 0.364 0.000 | 0.603 0.340 0.057 | 0.061 0.186 0.753 | 1 1 3\t\n"
      ]
     },
     "execution_count": 20,
     "metadata": {},
     "output_type": "execute_result"
    },
    {
     "data": {
      "text/plain": [
       "1      30 | 0.588 0.235 0.176 | 0.500 0.407 0.093 | 0.059 0.185 0.756 | 1 1 3\t\n"
      ]
     },
     "execution_count": 20,
     "metadata": {},
     "output_type": "execute_result"
    },
    {
     "data": {
      "text/plain": [
       "1      31 | 0.391 0.391 0.217 | 0.392 0.462 0.145 | 0.057 0.185 0.758 | 1 2 3\t\n",
       "1      32 | 0.288 0.544 0.167 | 0.291 0.495 0.214 | 0.055 0.184 0.761 | 2 2 3\t\n"
      ]
     },
     "execution_count": 20,
     "metadata": {},
     "output_type": "execute_result"
    },
    {
     "data": {
      "text/plain": [
       "1      33 | 0.083 0.639 0.278 | 0.203 0.500 0.297 | 0.053 0.184 0.763 | 2 2 3\t\n"
      ]
     },
     "execution_count": 20,
     "metadata": {},
     "output_type": "execute_result"
    },
    {
     "data": {
      "text/plain": [
       "1      34 | 0.150 0.400 0.450 | 0.134 0.477 0.389 | 0.051 0.183 0.766 | 3 2 3\t\n"
      ]
     },
     "execution_count": 20,
     "metadata": {},
     "output_type": "execute_result"
    },
    {
     "data": {
      "text/plain": [
       "1      35 | 0.042 0.250 0.708 | 0.084 0.432 0.484 | 0.049 0.182 0.768 | 3 3 3\t\n"
      ]
     },
     "execution_count": 20,
     "metadata": {},
     "output_type": "execute_result"
    },
    {
     "data": {
      "text/plain": [
       "1      36 | 0.109 0.345 0.545 | 0.050 0.374 0.576 | 0.048 0.181 0.771 | 3 3 3\t\n"
      ]
     },
     "execution_count": 20,
     "metadata": {},
     "output_type": "execute_result"
    },
    {
     "data": {
      "text/plain": [
       "1      37 | 0.000 0.294 0.706 | 0.029 0.311 0.660 | 0.046 0.181 0.773 | 3 3 3\t\n"
      ]
     },
     "execution_count": 20,
     "metadata": {},
     "output_type": "execute_result"
    },
    {
     "data": {
      "text/plain": [
       "1      38 | 0.071 0.214 0.714 | 0.016 0.252 0.732 | 0.044 0.180 0.776 | 3 3 3\t\n"
      ]
     },
     "execution_count": 20,
     "metadata": {},
     "output_type": "execute_result"
    }
   ],
   "source": [
    "function predictText(age, female)\n",
    "   --   1: calculate the \"logit's\"\n",
    "   --      The coefficients come from the text.\n",
    "   --      If you download the R script and run it, you may see slightly\n",
    "   --      different results.\n",
    "   local logit1 = 0\n",
    "   local logit2 = -11.774655 + 0.523814 * female + 0.368206 * age\n",
    "   local logit3 = -22.721396 + 0.465941 * female + 0.685908 * age\n",
    "\n",
    "   --   2: calculate the unnormalized probabilities\n",
    "   local uprob1 = math.exp(logit1)\n",
    "   local uprob2 = math.exp(logit2)\n",
    "   local uprob3 = math.exp(logit3)\n",
    "\n",
    "   --   3: normalize the probabilities\n",
    "   local z = uprob1 + uprob2 + uprob3\n",
    "   local prob1 = (1/z) * uprob1\n",
    "   local prob2 = (1/z) * uprob2\n",
    "   local prob3 = (1/z) * uprob3\n",
    "\n",
    "   return maxIndex(prob1, prob2, prob3), prob1, prob2, prob3\n",
    "end\n",
    "\n",
    "-- return predicted brand and the probabilities of each brand\n",
    "-- for our model\n",
    "function predictOur(age, female)\n",
    "   local input = torch.Tensor(2)\n",
    "   input[1] = female  -- must be in same order as when the model was trained!\n",
    "   input[2] = age\n",
    "   local logProbs = model:forward(input)  \n",
    "   --print('predictOur', age, female, input)\n",
    "   local probs = torch.exp(logProbs)\n",
    "   --print('logProbs', logProbs)\n",
    "   --print('probs', probs[1], probs[2], probs[3] )\n",
    "   local prob1, prob2, prob3 = probs[1], probs[2], probs[3]\n",
    "   return maxIndex(prob1, prob2, prob3), prob1, prob2, prob3\n",
    "end\n",
    "      \n",
    "counts = {}\n",
    "\n",
    "function makeKey(age, brand, female)\n",
    "   -- return a string containing the values\n",
    "\n",
    "   -- Note that returning a table will not work, because each\n",
    "   -- table is unique.\n",
    "\n",
    "   -- Because Lua interns the strings, a string with a given sequence\n",
    "   -- of characters is stored only once.\n",
    "   return string.format('%2d%1d%1f', age, brand, female)\n",
    "end\n",
    "\n",
    "for i = 1,(#brands)[1] do\n",
    "   local brand = brands[i]\n",
    "   local female = females[i]\n",
    "   local age = ages[i]\n",
    "   local key = makeKey (age, brand, female)\n",
    "   counts[key] = (counts[key] or 0) + 1\n",
    "end\n",
    "\n",
    "-- return probability of each brand conditioned on age and female\n",
    "function actualProbabilities(age, female)\n",
    "   function countOf(age, brand, female)\n",
    "      return counts[makeKey(age, brand, female)] or 0\n",
    "   end\n",
    "   local count1 = countOf(age, 1, female)\n",
    "   local count2 = countOf(age, 2, female)\n",
    "   local count3 = countOf(age, 3, female)\n",
    "   local sumCounts = count1 + count2 + count3\n",
    "   if sumCounts == 0 then\n",
    "      return 0, 0, 0\n",
    "   else\n",
    "      return count1/sumCounts, count2/sumCounts, count3/sumCounts\n",
    "   end\n",
    "end\n",
    "\n",
    "\n",
    "print(' ')\n",
    "print('summary of data')\n",
    "summarizeData()\n",
    "\n",
    "print(' ')\n",
    "print('training variables')\n",
    "for k,v in pairs(sgd_params) do\n",
    "   print(string.format('%20s %f', k, v))\n",
    "end\n",
    "print(string.format('%20s %f', 'epochs', epochs))\n",
    "\n",
    "print(' ')\n",
    "print('current loss', current_loss)\n",
    "\n",
    "-- print the headers \n",
    "print(' ')\n",
    "lineFormat = '%-6s %-3s| %-17s | %-17s | %-17s | %-1s %-1s %-1s'\n",
    "print(\n",
    "   string.format(lineFormat,\n",
    "\t\t '', '', \n",
    "\t\t 'actual probs', 'text probs', 'our probs', \n",
    "\t\t 'best', '', ''))\n",
    "choices = 'brnd1 brnd2 brnd3'\n",
    "print(string.format(lineFormat,\n",
    "\t\t    'female', 'age', \n",
    "\t\t    choices, choices, choices, \n",
    "\t\t    'a', 't', 'o'))\n",
    "\n",
    "-- print each row in the table\n",
    "\n",
    "function formatFemale(female)\n",
    "   return string.format('%1d', female)\n",
    "end\n",
    "\n",
    "function formatAge(age)\n",
    "   return string.format('%2d', age)\n",
    "end\n",
    "\n",
    "function formatProbs(p1, p2, p3)\n",
    "   return string.format('%5.3f %5.3f %5.3f', p1, p2, p3)\n",
    "end\n",
    "\n",
    "function indexString(p1, p2, p3)\n",
    "   -- return index of highest probability or '-' if nearly all zeroes\n",
    "   if p1 < 0.001 and p2 < 0.001 and p3 < 0.001 then\n",
    "      return '-'\n",
    "   else \n",
    "      return string.format('%1d', maxIndex(p1, p2, p3))\n",
    "   end\n",
    "end\n",
    "\n",
    "-- print table rows and accumulate accuracy\n",
    "for female = 0,1 do\n",
    "   for age = torch.min(ages),torch.max(ages) do\n",
    "      -- calculate the actual probabilities in the training data\n",
    "      local actual1, actual2, actual3 = actualProbabilities(age, female)\n",
    "      -- calculate the prediction and probabilities using the model in the text\n",
    "      local textBrand, textProb1, textProb2, textProb3 = \n",
    "\t predictText(age, female)\n",
    "      -- calculate the probabilities using the model we just trained\n",
    "      --print(\"main\", age, female)\n",
    "      local ourBrand, ourProb1, ourProb2, ourProb3 = \n",
    "\t predictOur(age, female)\n",
    "      print(\n",
    "\t string.format(lineFormat,\n",
    "\t\t       formatFemale(female), \n",
    "\t\t       formatAge(age),\n",
    "\t\t       formatProbs(actual1, actual2, actual3),\n",
    "\t\t       formatProbs(textProb1, textProb2, textProb3),\n",
    "\t\t       formatProbs(ourProb1, ourProb2, ourProb3),\n",
    "\t\t       indexString(actual1,actual2,actual3),\n",
    "\t\t       indexString(textProb1,textProb2,textProb3),\n",
    "\t\t       indexString(ourProb1,ourProb2,ourProb3))\n",
    "\t   )\n",
    "   end\n",
    "end"
   ]
  },
  {
   "cell_type": "code",
   "execution_count": null,
   "metadata": {
    "collapsed": false
   },
   "outputs": [],
   "source": []
  }
 ],
 "metadata": {
  "kernelspec": {
   "display_name": "iTorch",
   "language": "lua",
   "name": "itorch"
  },
  "language_info": {
   "name": "lua",
   "version": "20100"
  }
 },
 "nbformat": 4,
 "nbformat_minor": 0
}
