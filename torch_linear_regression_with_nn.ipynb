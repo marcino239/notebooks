{
 "cells": [
  {
   "cell_type": "markdown",
   "metadata": {},
   "source": [
    "There are few packages which can help with implementation of RNNs and their need for high performance calculations.  I like caffe the most but it can be chalenging especially when it comes to adding new code as you need to deal with C++ and Cuda.  There is also Theano, but I am not a great fun with heavy computational tree optimisation especially during evaluation stage.  There is also Torch based on Lua which is ... well I don't know what Torch can do at this stage ...\n",
    "  \n",
    "Hence this post will be about implementing linear regression using Cuda Tensors and Torch 7.  The example is loosely based on Torch7 and iTorch demos. "
   ]
  },
  {
   "cell_type": "code",
   "execution_count": 2,
   "metadata": {
    "collapsed": false
   },
   "outputs": [],
   "source": [
    "require 'cutorch';\n",
    "require 'cunn';\n",
    "require 'optim';\n",
    "\n",
    "torch.setdefaulttensortype( 'torch.FloatTensor' )\n",
    "logger = optim.Logger( paths.concat('.', 'train.log') )"
   ]
  },
  {
   "cell_type": "markdown",
   "metadata": {},
   "source": [
    "For this exercise we will use fairly large table"
   ]
  },
  {
   "cell_type": "code",
   "execution_count": 3,
   "metadata": {
    "collapsed": false
   },
   "outputs": [],
   "source": [
    "x_len = 1000000\n",
    "x_width = 2\n",
    "\n",
    "X = torch.CudaTensor( x_len, x_width ):normal()\n",
    "A = torch.CudaTensor{ {1}, {2} }\n",
    "Y = torch.mm( X, A ) + torch.CudaTensor( x_len, 1 ):normal( 3.0, 1.0 )"
   ]
  },
  {
   "cell_type": "markdown",
   "metadata": {
    "collapsed": false
   },
   "source": [
    "Let's define linear layer to express our regression.  NN package will take care of gradient derivation as well as forward and backward passes"
   ]
  },
  {
   "cell_type": "code",
   "execution_count": 4,
   "metadata": {
    "collapsed": false,
    "scrolled": true
   },
   "outputs": [],
   "source": [
    "lin_layer = nn.Linear( (#X)[2], (#Y)[2] )\n",
    "model = nn.Sequential()\n",
    "model:add( lin_layer )\n",
    "model:cuda()\n",
    "criterion = nn.MSECriterion()\n",
    "criterion:cuda()\n",
    "params, dl_dparams = model:getParameters()"
   ]
  },
  {
   "cell_type": "code",
   "execution_count": 5,
   "metadata": {
    "collapsed": false
   },
   "outputs": [],
   "source": [
    "sgd_params = {\n",
    "    learningRate = 1e-3,\n",
    "    learningRateDecay = 1e-4,\n",
    "    weightDecay = 0,\n",
    "    momentum = 0\n",
    "}\n",
    "epochs = 100\n",
    "batch_size = 50000"
   ]
  },
  {
   "cell_type": "code",
   "execution_count": 6,
   "metadata": {
    "collapsed": false,
    "scrolled": true
   },
   "outputs": [],
   "source": [
    "function train( X, Y )\n",
    "    \n",
    "    local current_loss = 0\n",
    "\n",
    "    -- mini input / target\n",
    "    local inputs = torch.CudaTensor( batch_size, x_width )\n",
    "    local targets = torch.CudaTensor( batch_size )\n",
    "    \n",
    "    -- we won't use shuffle over here as for loop is too slow in lua\n",
    "    -- instead we will start from a random offset\n",
    "    local offset = math.floor( torch.uniform( 0, batch_size-1 ) )\n",
    "    \n",
    "    -- for each mini batch\n",
    "    for t = 1,(#X)[1], batch_size do\n",
    "\n",
    "        local x_start = t + offset\n",
    "        local x_end = math.min( t + offset + batch_size - 1, (#X)[1] )\n",
    "        \n",
    "        inputs[ {{1, x_end - x_start + 1}} ] = X[ {{x_start, x_end}} ]:clone()\n",
    "        targets[ {{1, x_end - x_start + 1}} ] = Y[ {{x_start, x_end}} ]:clone()\n",
    "        \n",
    "        -- eval function to minimise \n",
    "        feval = function( params_new )\n",
    "            -- clean up \n",
    "            collectgarbage()\n",
    "\n",
    "            if params ~= params_new then\n",
    "                params:copy( params_new )\n",
    "            end\n",
    "\n",
    "            -- reset gradients (gradients are always accumulated, to accomodate batch methods)\n",
    "            dl_dparams:zero()\n",
    "\n",
    "            -- evaluate the loss function and its derivative wrt x\n",
    "            local outputs = model:forward( inputs )\n",
    "            local loss = criterion:forward( outputs, targets )\n",
    "            local backprop = criterion:backward( outputs, targets )\n",
    "            model:backward( inputs, backprop )\n",
    "\n",
    "            -- return loss and dloss/dparams\n",
    "            return loss, dl_dparams\n",
    "        end\n",
    "\n",
    "        -- run SGD\n",
    "        _, fs = optim.sgd( feval, params, sgd_params )\n",
    "        current_loss = current_loss + fs[1]\n",
    "    end\n",
    "    \n",
    "    current_loss = current_loss / batch_size\n",
    "    logger:add{['training_error'] = current_loss }\n",
    "    \n",
    "    return current_loss\n",
    "end"
   ]
  },
  {
   "cell_type": "code",
   "execution_count": 7,
   "metadata": {
    "collapsed": false
   },
   "outputs": [
    {
     "data": {
      "text/plain": [
       "Final loss = 0.00040390299797058\t\n",
       "Time per epoch = 0.15690538883209[s]\t"
      ]
     },
     "execution_count": 7,
     "metadata": {},
     "output_type": "execute_result"
    }
   ],
   "source": [
    "time = sys.clock()\n",
    "local cumm_loss = 0.\n",
    "for i = 1, epochs do\n",
    "    cumm_loss = train( X, Y )\n",
    "end\n",
    "\n",
    "print( 'Final loss = ' .. cumm_loss )\n",
    "\n",
    "-- time taken\n",
    "time = sys.clock() - time\n",
    "print( \"Time per epoch = \" .. (time / epochs) .. '[s]')\n"
   ]
  },
  {
   "cell_type": "markdown",
   "metadata": {},
   "source": [
    "Let's take a look at recovered parameters.  They should be close to matrix A + mean of noise ( 3 ):\n",
    "```\n",
    "1  \n",
    "2  \n",
    "3\n",
    "```"
   ]
  },
  {
   "cell_type": "code",
   "execution_count": 8,
   "metadata": {
    "collapsed": false
   },
   "outputs": [
    {
     "data": {
      "text/plain": [
       "\n"
      ]
     },
     "execution_count": 7,
     "metadata": {},
     "output_type": "execute_result"
    },
    {
     "data": {
      "text/plain": [
       " 0.9919\n",
       " 1.9577\n",
       " 2.9063\n",
       "[torch.CudaTensor of size 3]\n",
       "\n"
      ]
     },
     "execution_count": 8,
     "metadata": {},
     "output_type": "execute_result"
    }
   ],
   "source": [
    "print( params )"
   ]
  },
  {
   "cell_type": "markdown",
   "metadata": {},
   "source": [
    "Not bad.  Here's the chart of MSE as a function of epoch "
   ]
  },
  {
   "cell_type": "code",
   "execution_count": 9,
   "metadata": {
    "collapsed": false
   },
   "outputs": [
    {
     "data": {
      "text/html": [
       "<script type=\"text/javascript\">\n",
       "$(function() {\n",
       "    if (typeof (window._bokeh_onload_callbacks) === \"undefined\"){\n",
       "  window._bokeh_onload_callbacks = [];\n",
       "    }\n",
       "    function load_lib(url, callback){\n",
       "  window._bokeh_onload_callbacks.push(callback);\n",
       "  if (window._bokeh_is_loading){\n",
       "      console.log(\"Bokeh: BokehJS is being loaded, scheduling callback at\", new Date());\n",
       "      return null;\n",
       "  }\n",
       "  console.log(\"Bokeh: BokehJS not loaded, scheduling load and callback at\", new Date());\n",
       "  window._bokeh_is_loading = true;\n",
       "  var s = document.createElement('script');\n",
       "  s.src = url;\n",
       "  s.async = true;\n",
       "  s.onreadystatechange = s.onload = function(){\n",
       "      Bokeh.embed.inject_css(\"http://cdn.pydata.org/bokeh-0.7.0.min.css\");\n",
       "      window._bokeh_onload_callbacks.forEach(function(callback){callback()});\n",
       "  };\n",
       "  s.onerror = function(){\n",
       "      console.warn(\"failed to load library \" + url);\n",
       "  };\n",
       "  document.getElementsByTagName(\"head\")[0].appendChild(s);\n",
       "    }\n",
       "\n",
       "    bokehjs_url = \"http://cdn.pydata.org/bokeh-0.7.0.min.js\"\n",
       "\n",
       "    var elt = document.getElementById(\"30478146-1415-43bc-c354-2f11b7f63741\");\n",
       "    if(elt==null) {\n",
       "  console.log(\"Bokeh: ERROR: autoload.js configured with elementid '30478146-1415-43bc-c354-2f11b7f63741'\"\n",
       "        + \"but no matching script tag was found. \")\n",
       "  return false;\n",
       "    }\n",
       "\n",
       "    if(typeof(Bokeh) !== \"undefined\") {\n",
       "  console.log(\"Bokeh: BokehJS loaded, going straight to plotting\");\n",
       "  var modelid = \"2ce6d563-645b-437e-c3e5-955c0880629e\";\n",
       "  var modeltype = \"Plot\";\n",
       "  var all_models = [{\"id\":\"ae9bdc2a-8636-481f-c89f-c93e65dd2be2\",\"type\":\"ColumnDataSource\",\"attributes\":{\"data\":{\"y\":[0.0065027587115765,0.006034703925252,0.005602088291198,0.0052043097093701,0.0048374449834228,0.0044988947920501,0.0041870689019561,0.0038994003552943,0.0036340937949717,0.0033894157968462,0.0031636450439692,0.0029552974738181,0.0027631889097393,0.002585970563814,0.0024220128543675,0.0022706533782184,0.0021310222800821,0.0020020839292556,0.0018827428575605,0.001772896735929,0.0016708843177184,0.0015769632300362,0.0014904839918017,0.0014097094535828,0.0013354240218177,0.0012667094124481,0.0012031707447022,0.0011444606352597,0.0010900015477091,0.0010397194419056,0.00099316355772316,0.00094999058637768,0.00090995180653408,0.00087317044381052,0.00083891552640125,0.00080752518260852,0.00077798642450944,0.00075066112913191,0.00072559894761071,0.00070224126102403,0.000680684694089,0.00066057807998732,0.00064198515610769,0.00062468141550198,0.0006087608053349,0.00059398310258985,0.00058013503439724,0.00056754954857752,0.00055563222849742,0.00054463447304443,0.00053436774760485,0.00052494136616588,0.00051611923845485,0.00050823780475184,0.00050053204176947,0.00049337098607793,0.00048697076272219,0.00048086047172546,0.00047529005678371,0.00047005043597892,0.0004651079652831,0.00046071156975813,0.00045635655988008,0.00045242081978358,0.00044878994231112,0.00044562682160176,0.00044224140583538,0.00043955160072073,0.00043669450678863,0.00043408246710896,0.0004318384162616,0.00042956220568158,0.00042773087625392,0.00042564130853862,0.00042386713903397,0.00042226890218444,0.00042087043402717,0.00041929195867851,0.00041812082054093,0.00041668157791719,0.00041575953946449,0.00041445906390436,0.00041360495379195,0.0004126759886276,0.00041170988697559,0.00041104663978331,0.00041030277498066,0.00040937442099676,0.00040897645521909,0.00040819472633302,0.00040762688149698,0.0004070853756275,0.00040655746124685,0.00040612139855511,0.00040582608198747,0.00040540882037021,0.00040502921910957,0.00040473588160239,0.00040422604070045,0.00040390298818238],\"x\":[1,2,3,4,5,6,7,8,9,10,11,12,13,14,15,16,17,18,19,20,21,22,23,24,25,26,27,28,29,30,31,32,33,34,35,36,37,38,39,40,41,42,43,44,45,46,47,48,49,50,51,52,53,54,55,56,57,58,59,60,61,62,63,64,65,66,67,68,69,70,71,72,73,74,75,76,77,78,79,80,81,82,83,84,85,86,87,88,89,90,91,92,93,94,95,96,97,98,99,100]},\"column_names\":[\"y\",\"x\"],\"cont_ranges\":{},\"discrete_ranges\":{},\"selected\":[],\"id\":\"ae9bdc2a-8636-481f-c89f-c93e65dd2be2\",\"doc\":null,\"tags\":[]}},{\"id\":\"6ea307e2-93aa-4cdd-cc53-0fe234bdd645\",\"type\":\"Line\",\"attributes\":{\"fill_alpha\":{\"units\":\"data\",\"value\":0.2},\"line_alpha\":{\"units\":\"data\",\"value\":1},\"doc\":null,\"size\":{\"units\":\"screen\",\"value\":10},\"fill_color\":{\"value\":\"blue\"},\"line_color\":{\"value\":\"blue\"},\"x\":{\"units\":\"data\",\"field\":\"x\"},\"id\":\"6ea307e2-93aa-4cdd-cc53-0fe234bdd645\",\"y\":{\"units\":\"data\",\"field\":\"y\"},\"tags\":[]}},{\"id\":\"16ca4d4e-69df-4fa1-cf2a-9b4b1287e209\",\"type\":\"Line\",\"attributes\":{\"fill_alpha\":{\"units\":\"data\",\"value\":0.2},\"line_alpha\":{\"units\":\"data\",\"value\":1},\"doc\":null,\"size\":{\"units\":\"screen\",\"value\":10},\"fill_color\":{\"value\":\"blue\"},\"line_color\":{\"value\":\"blue\"},\"x\":{\"units\":\"data\",\"field\":\"x\"},\"id\":\"16ca4d4e-69df-4fa1-cf2a-9b4b1287e209\",\"y\":{\"units\":\"data\",\"field\":\"y\"},\"tags\":[]}},{\"id\":\"bc15cc70-ce9e-41f7-c15e-cf43818825f6\",\"type\":\"GlyphRenderer\",\"attributes\":{\"name\":null,\"nonselection_glyph\":{\"type\":\"Line\",\"id\":\"16ca4d4e-69df-4fa1-cf2a-9b4b1287e209\"},\"doc\":null,\"server_data_source\":null,\"data_source\":{\"type\":\"ColumnDataSource\",\"id\":\"ae9bdc2a-8636-481f-c89f-c93e65dd2be2\"},\"glyph\":{\"type\":\"Line\",\"id\":\"6ea307e2-93aa-4cdd-cc53-0fe234bdd645\"},\"selection_glyph\":null,\"id\":\"bc15cc70-ce9e-41f7-c15e-cf43818825f6\",\"tags\":[]}},{\"id\":\"f58a716c-0919-4ed1-ce81-4532f5591c71\",\"type\":\"DataRange1d\",\"attributes\":{\"sources\":[{\"columns\":[\"x\"],\"source\":{\"type\":\"ColumnDataSource\",\"id\":\"ae9bdc2a-8636-481f-c89f-c93e65dd2be2\"}}],\"id\":\"f58a716c-0919-4ed1-ce81-4532f5591c71\",\"tags\":[],\"doc\":null}},{\"id\":\"7d0e3034-00f9-433f-c303-8ee9f15f43eb\",\"type\":\"DataRange1d\",\"attributes\":{\"sources\":[{\"columns\":[\"y\"],\"source\":{\"type\":\"ColumnDataSource\",\"id\":\"ae9bdc2a-8636-481f-c89f-c93e65dd2be2\"}}],\"id\":\"7d0e3034-00f9-433f-c303-8ee9f15f43eb\",\"tags\":[],\"doc\":null}},{\"id\":\"3f6751a2-733b-4934-c931-1d1d86374e94\",\"type\":\"ToolEvents\",\"attributes\":{\"tags\":[],\"id\":\"3f6751a2-733b-4934-c931-1d1d86374e94\",\"geometries\":[],\"doc\":null}},{\"id\":\"916b9db1-7745-489e-c89f-1f690cc20823\",\"type\":\"BasicTickFormatter\",\"attributes\":{\"id\":\"916b9db1-7745-489e-c89f-1f690cc20823\",\"tags\":[],\"doc\":null}},{\"id\":\"1abaa17f-bd72-4876-c83c-1f031df8990d\",\"type\":\"BasicTicker\",\"attributes\":{\"num_minor_ticks\":5,\"id\":\"1abaa17f-bd72-4876-c83c-1f031df8990d\",\"tags\":[],\"doc\":null}},{\"id\":\"6b9474d1-8d60-4850-c806-e7a23f5fff7f\",\"type\":\"LinearAxis\",\"attributes\":{\"formatter\":{\"type\":\"BasicTickFormatter\",\"id\":\"916b9db1-7745-489e-c89f-1f690cc20823\"},\"ticker\":{\"type\":\"BasicTicker\",\"id\":\"1abaa17f-bd72-4876-c83c-1f031df8990d\"},\"plot\":{\"id\":\"2ce6d563-645b-437e-c3e5-955c0880629e\",\"type\":\"Plot\",\"subtype\":\"Figure\"},\"axis_label\":null,\"id\":\"6b9474d1-8d60-4850-c806-e7a23f5fff7f\",\"doc\":null,\"tags\":[]}},{\"id\":\"a49f8f88-172c-43fc-c36e-1e4be944b303\",\"type\":\"Grid\",\"attributes\":{\"dimension\":0,\"plot\":{\"id\":\"2ce6d563-645b-437e-c3e5-955c0880629e\",\"type\":\"Plot\",\"subtype\":\"Figure\"},\"ticker\":{\"type\":\"BasicTicker\",\"id\":\"1abaa17f-bd72-4876-c83c-1f031df8990d\"},\"id\":\"a49f8f88-172c-43fc-c36e-1e4be944b303\",\"doc\":null,\"tags\":[]}},{\"id\":\"4c92973d-d7fe-41e5-c1dd-b80d028b6905\",\"type\":\"BasicTickFormatter\",\"attributes\":{\"id\":\"4c92973d-d7fe-41e5-c1dd-b80d028b6905\",\"tags\":[],\"doc\":null}},{\"id\":\"c1b533d8-3c18-4cdd-cc47-403647fe1018\",\"type\":\"BasicTicker\",\"attributes\":{\"num_minor_ticks\":5,\"id\":\"c1b533d8-3c18-4cdd-cc47-403647fe1018\",\"tags\":[],\"doc\":null}},{\"id\":\"f7004df0-ddf7-4d03-cdb8-4fa1de6e3bcf\",\"type\":\"LinearAxis\",\"attributes\":{\"formatter\":{\"type\":\"BasicTickFormatter\",\"id\":\"4c92973d-d7fe-41e5-c1dd-b80d028b6905\"},\"ticker\":{\"type\":\"BasicTicker\",\"id\":\"c1b533d8-3c18-4cdd-cc47-403647fe1018\"},\"plot\":{\"id\":\"2ce6d563-645b-437e-c3e5-955c0880629e\",\"type\":\"Plot\",\"subtype\":\"Figure\"},\"axis_label\":null,\"id\":\"f7004df0-ddf7-4d03-cdb8-4fa1de6e3bcf\",\"doc\":null,\"tags\":[]}},{\"id\":\"fc73a7e6-7404-4f02-cf0e-21bbb4c021ef\",\"type\":\"Grid\",\"attributes\":{\"dimension\":1,\"plot\":{\"id\":\"2ce6d563-645b-437e-c3e5-955c0880629e\",\"type\":\"Plot\",\"subtype\":\"Figure\"},\"ticker\":{\"type\":\"BasicTicker\",\"id\":\"c1b533d8-3c18-4cdd-cc47-403647fe1018\"},\"id\":\"fc73a7e6-7404-4f02-cf0e-21bbb4c021ef\",\"doc\":null,\"tags\":[]}},{\"id\":\"3341b4ae-cbb7-4b06-cb09-af6b68284b67\",\"type\":\"PanTool\",\"attributes\":{\"plot\":{\"id\":\"2ce6d563-645b-437e-c3e5-955c0880629e\",\"type\":\"Plot\",\"subtype\":\"Figure\"},\"dimensions\":[\"width\",\"height\"],\"id\":\"3341b4ae-cbb7-4b06-cb09-af6b68284b67\",\"doc\":null,\"tags\":[]}},{\"id\":\"4790005a-184c-44cd-c430-d44d8e4487c9\",\"type\":\"WheelZoomTool\",\"attributes\":{\"plot\":{\"id\":\"2ce6d563-645b-437e-c3e5-955c0880629e\",\"type\":\"Plot\",\"subtype\":\"Figure\"},\"dimensions\":[\"width\",\"height\"],\"id\":\"4790005a-184c-44cd-c430-d44d8e4487c9\",\"doc\":null,\"tags\":[]}},{\"id\":\"851d1b8b-11ef-4d4f-cd56-15c4c5291a50\",\"type\":\"BoxZoomTool\",\"attributes\":{\"plot\":{\"id\":\"2ce6d563-645b-437e-c3e5-955c0880629e\",\"type\":\"Plot\",\"subtype\":\"Figure\"},\"id\":\"851d1b8b-11ef-4d4f-cd56-15c4c5291a50\",\"tags\":[],\"doc\":null}},{\"id\":\"edb83bf6-05e3-44b6-c4a2-4de8e78dc2eb\",\"type\":\"PreviewSaveTool\",\"attributes\":{\"plot\":{\"id\":\"2ce6d563-645b-437e-c3e5-955c0880629e\",\"type\":\"Plot\",\"subtype\":\"Figure\"},\"id\":\"edb83bf6-05e3-44b6-c4a2-4de8e78dc2eb\",\"tags\":[],\"doc\":null}},{\"id\":\"9ad64c8d-0dc1-490d-c9da-0dd82bac1e91\",\"type\":\"ResizeTool\",\"attributes\":{\"plot\":{\"id\":\"2ce6d563-645b-437e-c3e5-955c0880629e\",\"type\":\"Plot\",\"subtype\":\"Figure\"},\"id\":\"9ad64c8d-0dc1-490d-c9da-0dd82bac1e91\",\"tags\":[],\"doc\":null}},{\"id\":\"88fe02b4-c305-4443-c4bc-51a48e8ab53c\",\"type\":\"ResetTool\",\"attributes\":{\"plot\":{\"id\":\"2ce6d563-645b-437e-c3e5-955c0880629e\",\"type\":\"Plot\",\"subtype\":\"Figure\"},\"id\":\"88fe02b4-c305-4443-c4bc-51a48e8ab53c\",\"tags\":[],\"doc\":null}},{\"id\":\"3de3aa81-2bc2-4514-c55b-552a597be5ee\",\"type\":\"Legend\",\"attributes\":{\"plot\":{\"id\":\"2ce6d563-645b-437e-c3e5-955c0880629e\",\"type\":\"Plot\",\"subtype\":\"Figure\"},\"legends\":[[\"training_error\",[{\"type\":\"GlyphRenderer\",\"id\":\"bc15cc70-ce9e-41f7-c15e-cf43818825f6\"}]]],\"id\":\"3de3aa81-2bc2-4514-c55b-552a597be5ee\",\"doc\":null,\"tags\":[]}},{\"id\":\"2ce6d563-645b-437e-c3e5-955c0880629e\",\"type\":\"Plot\",\"attributes\":{\"x_range\":{\"type\":\"DataRange1d\",\"id\":\"f58a716c-0919-4ed1-ce81-4532f5591c71\"},\"tool_events\":{\"type\":\"ToolEvents\",\"id\":\"3f6751a2-733b-4934-c931-1d1d86374e94\"},\"below\":[{\"type\":\"LinearAxis\",\"id\":\"6b9474d1-8d60-4850-c806-e7a23f5fff7f\"}],\"renderers\":[{\"type\":\"GlyphRenderer\",\"id\":\"bc15cc70-ce9e-41f7-c15e-cf43818825f6\"},{\"type\":\"LinearAxis\",\"id\":\"6b9474d1-8d60-4850-c806-e7a23f5fff7f\"},{\"type\":\"Grid\",\"id\":\"a49f8f88-172c-43fc-c36e-1e4be944b303\"},{\"type\":\"LinearAxis\",\"id\":\"f7004df0-ddf7-4d03-cdb8-4fa1de6e3bcf\"},{\"type\":\"Grid\",\"id\":\"fc73a7e6-7404-4f02-cf0e-21bbb4c021ef\"},{\"type\":\"Legend\",\"id\":\"3de3aa81-2bc2-4514-c55b-552a597be5ee\"}],\"above\":[],\"tools\":[{\"type\":\"PanTool\",\"id\":\"3341b4ae-cbb7-4b06-cb09-af6b68284b67\"},{\"type\":\"WheelZoomTool\",\"id\":\"4790005a-184c-44cd-c430-d44d8e4487c9\"},{\"type\":\"BoxZoomTool\",\"id\":\"851d1b8b-11ef-4d4f-cd56-15c4c5291a50\"},{\"type\":\"PreviewSaveTool\",\"id\":\"edb83bf6-05e3-44b6-c4a2-4de8e78dc2eb\"},{\"type\":\"ResizeTool\",\"id\":\"9ad64c8d-0dc1-490d-c9da-0dd82bac1e91\"},{\"type\":\"ResetTool\",\"id\":\"88fe02b4-c305-4443-c4bc-51a48e8ab53c\"}],\"doc\":null,\"right\":[],\"title\":\"MSE\",\"extra_x_ranges\":{},\"left\":[{\"type\":\"LinearAxis\",\"id\":\"f7004df0-ddf7-4d03-cdb8-4fa1de6e3bcf\"}],\"y_range\":{\"type\":\"DataRange1d\",\"id\":\"7d0e3034-00f9-433f-c303-8ee9f15f43eb\"},\"id\":\"2ce6d563-645b-437e-c3e5-955c0880629e\",\"extra_y_ranges\":{},\"tags\":[]}}];\n",
       "  Bokeh.load_models(all_models);\n",
       "  var model = Bokeh.Collections(modeltype).get(modelid);\n",
       "  $(\"#30478146-1415-43bc-c354-2f11b7f63741\").html(''); // clear any previous plot in window_id\n",
       "  var view = new model.default_view({model: model, el: \"#30478146-1415-43bc-c354-2f11b7f63741\"});\n",
       "    } else {\n",
       "  load_lib(bokehjs_url, function() {\n",
       "      console.log(\"Bokeh: BokehJS plotting callback run at\", new Date())\n",
       "      var modelid = \"2ce6d563-645b-437e-c3e5-955c0880629e\";\n",
       "      var modeltype = \"Plot\";\n",
       "      var all_models = [{\"id\":\"ae9bdc2a-8636-481f-c89f-c93e65dd2be2\",\"type\":\"ColumnDataSource\",\"attributes\":{\"data\":{\"y\":[0.0065027587115765,0.006034703925252,0.005602088291198,0.0052043097093701,0.0048374449834228,0.0044988947920501,0.0041870689019561,0.0038994003552943,0.0036340937949717,0.0033894157968462,0.0031636450439692,0.0029552974738181,0.0027631889097393,0.002585970563814,0.0024220128543675,0.0022706533782184,0.0021310222800821,0.0020020839292556,0.0018827428575605,0.001772896735929,0.0016708843177184,0.0015769632300362,0.0014904839918017,0.0014097094535828,0.0013354240218177,0.0012667094124481,0.0012031707447022,0.0011444606352597,0.0010900015477091,0.0010397194419056,0.00099316355772316,0.00094999058637768,0.00090995180653408,0.00087317044381052,0.00083891552640125,0.00080752518260852,0.00077798642450944,0.00075066112913191,0.00072559894761071,0.00070224126102403,0.000680684694089,0.00066057807998732,0.00064198515610769,0.00062468141550198,0.0006087608053349,0.00059398310258985,0.00058013503439724,0.00056754954857752,0.00055563222849742,0.00054463447304443,0.00053436774760485,0.00052494136616588,0.00051611923845485,0.00050823780475184,0.00050053204176947,0.00049337098607793,0.00048697076272219,0.00048086047172546,0.00047529005678371,0.00047005043597892,0.0004651079652831,0.00046071156975813,0.00045635655988008,0.00045242081978358,0.00044878994231112,0.00044562682160176,0.00044224140583538,0.00043955160072073,0.00043669450678863,0.00043408246710896,0.0004318384162616,0.00042956220568158,0.00042773087625392,0.00042564130853862,0.00042386713903397,0.00042226890218444,0.00042087043402717,0.00041929195867851,0.00041812082054093,0.00041668157791719,0.00041575953946449,0.00041445906390436,0.00041360495379195,0.0004126759886276,0.00041170988697559,0.00041104663978331,0.00041030277498066,0.00040937442099676,0.00040897645521909,0.00040819472633302,0.00040762688149698,0.0004070853756275,0.00040655746124685,0.00040612139855511,0.00040582608198747,0.00040540882037021,0.00040502921910957,0.00040473588160239,0.00040422604070045,0.00040390298818238],\"x\":[1,2,3,4,5,6,7,8,9,10,11,12,13,14,15,16,17,18,19,20,21,22,23,24,25,26,27,28,29,30,31,32,33,34,35,36,37,38,39,40,41,42,43,44,45,46,47,48,49,50,51,52,53,54,55,56,57,58,59,60,61,62,63,64,65,66,67,68,69,70,71,72,73,74,75,76,77,78,79,80,81,82,83,84,85,86,87,88,89,90,91,92,93,94,95,96,97,98,99,100]},\"column_names\":[\"y\",\"x\"],\"cont_ranges\":{},\"discrete_ranges\":{},\"selected\":[],\"id\":\"ae9bdc2a-8636-481f-c89f-c93e65dd2be2\",\"doc\":null,\"tags\":[]}},{\"id\":\"6ea307e2-93aa-4cdd-cc53-0fe234bdd645\",\"type\":\"Line\",\"attributes\":{\"fill_alpha\":{\"units\":\"data\",\"value\":0.2},\"line_alpha\":{\"units\":\"data\",\"value\":1},\"doc\":null,\"size\":{\"units\":\"screen\",\"value\":10},\"fill_color\":{\"value\":\"blue\"},\"line_color\":{\"value\":\"blue\"},\"x\":{\"units\":\"data\",\"field\":\"x\"},\"id\":\"6ea307e2-93aa-4cdd-cc53-0fe234bdd645\",\"y\":{\"units\":\"data\",\"field\":\"y\"},\"tags\":[]}},{\"id\":\"16ca4d4e-69df-4fa1-cf2a-9b4b1287e209\",\"type\":\"Line\",\"attributes\":{\"fill_alpha\":{\"units\":\"data\",\"value\":0.2},\"line_alpha\":{\"units\":\"data\",\"value\":1},\"doc\":null,\"size\":{\"units\":\"screen\",\"value\":10},\"fill_color\":{\"value\":\"blue\"},\"line_color\":{\"value\":\"blue\"},\"x\":{\"units\":\"data\",\"field\":\"x\"},\"id\":\"16ca4d4e-69df-4fa1-cf2a-9b4b1287e209\",\"y\":{\"units\":\"data\",\"field\":\"y\"},\"tags\":[]}},{\"id\":\"bc15cc70-ce9e-41f7-c15e-cf43818825f6\",\"type\":\"GlyphRenderer\",\"attributes\":{\"name\":null,\"nonselection_glyph\":{\"type\":\"Line\",\"id\":\"16ca4d4e-69df-4fa1-cf2a-9b4b1287e209\"},\"doc\":null,\"server_data_source\":null,\"data_source\":{\"type\":\"ColumnDataSource\",\"id\":\"ae9bdc2a-8636-481f-c89f-c93e65dd2be2\"},\"glyph\":{\"type\":\"Line\",\"id\":\"6ea307e2-93aa-4cdd-cc53-0fe234bdd645\"},\"selection_glyph\":null,\"id\":\"bc15cc70-ce9e-41f7-c15e-cf43818825f6\",\"tags\":[]}},{\"id\":\"f58a716c-0919-4ed1-ce81-4532f5591c71\",\"type\":\"DataRange1d\",\"attributes\":{\"sources\":[{\"columns\":[\"x\"],\"source\":{\"type\":\"ColumnDataSource\",\"id\":\"ae9bdc2a-8636-481f-c89f-c93e65dd2be2\"}}],\"id\":\"f58a716c-0919-4ed1-ce81-4532f5591c71\",\"tags\":[],\"doc\":null}},{\"id\":\"7d0e3034-00f9-433f-c303-8ee9f15f43eb\",\"type\":\"DataRange1d\",\"attributes\":{\"sources\":[{\"columns\":[\"y\"],\"source\":{\"type\":\"ColumnDataSource\",\"id\":\"ae9bdc2a-8636-481f-c89f-c93e65dd2be2\"}}],\"id\":\"7d0e3034-00f9-433f-c303-8ee9f15f43eb\",\"tags\":[],\"doc\":null}},{\"id\":\"3f6751a2-733b-4934-c931-1d1d86374e94\",\"type\":\"ToolEvents\",\"attributes\":{\"tags\":[],\"id\":\"3f6751a2-733b-4934-c931-1d1d86374e94\",\"geometries\":[],\"doc\":null}},{\"id\":\"916b9db1-7745-489e-c89f-1f690cc20823\",\"type\":\"BasicTickFormatter\",\"attributes\":{\"id\":\"916b9db1-7745-489e-c89f-1f690cc20823\",\"tags\":[],\"doc\":null}},{\"id\":\"1abaa17f-bd72-4876-c83c-1f031df8990d\",\"type\":\"BasicTicker\",\"attributes\":{\"num_minor_ticks\":5,\"id\":\"1abaa17f-bd72-4876-c83c-1f031df8990d\",\"tags\":[],\"doc\":null}},{\"id\":\"6b9474d1-8d60-4850-c806-e7a23f5fff7f\",\"type\":\"LinearAxis\",\"attributes\":{\"formatter\":{\"type\":\"BasicTickFormatter\",\"id\":\"916b9db1-7745-489e-c89f-1f690cc20823\"},\"ticker\":{\"type\":\"BasicTicker\",\"id\":\"1abaa17f-bd72-4876-c83c-1f031df8990d\"},\"plot\":{\"id\":\"2ce6d563-645b-437e-c3e5-955c0880629e\",\"type\":\"Plot\",\"subtype\":\"Figure\"},\"axis_label\":null,\"id\":\"6b9474d1-8d60-4850-c806-e7a23f5fff7f\",\"doc\":null,\"tags\":[]}},{\"id\":\"a49f8f88-172c-43fc-c36e-1e4be944b303\",\"type\":\"Grid\",\"attributes\":{\"dimension\":0,\"plot\":{\"id\":\"2ce6d563-645b-437e-c3e5-955c0880629e\",\"type\":\"Plot\",\"subtype\":\"Figure\"},\"ticker\":{\"type\":\"BasicTicker\",\"id\":\"1abaa17f-bd72-4876-c83c-1f031df8990d\"},\"id\":\"a49f8f88-172c-43fc-c36e-1e4be944b303\",\"doc\":null,\"tags\":[]}},{\"id\":\"4c92973d-d7fe-41e5-c1dd-b80d028b6905\",\"type\":\"BasicTickFormatter\",\"attributes\":{\"id\":\"4c92973d-d7fe-41e5-c1dd-b80d028b6905\",\"tags\":[],\"doc\":null}},{\"id\":\"c1b533d8-3c18-4cdd-cc47-403647fe1018\",\"type\":\"BasicTicker\",\"attributes\":{\"num_minor_ticks\":5,\"id\":\"c1b533d8-3c18-4cdd-cc47-403647fe1018\",\"tags\":[],\"doc\":null}},{\"id\":\"f7004df0-ddf7-4d03-cdb8-4fa1de6e3bcf\",\"type\":\"LinearAxis\",\"attributes\":{\"formatter\":{\"type\":\"BasicTickFormatter\",\"id\":\"4c92973d-d7fe-41e5-c1dd-b80d028b6905\"},\"ticker\":{\"type\":\"BasicTicker\",\"id\":\"c1b533d8-3c18-4cdd-cc47-403647fe1018\"},\"plot\":{\"id\":\"2ce6d563-645b-437e-c3e5-955c0880629e\",\"type\":\"Plot\",\"subtype\":\"Figure\"},\"axis_label\":null,\"id\":\"f7004df0-ddf7-4d03-cdb8-4fa1de6e3bcf\",\"doc\":null,\"tags\":[]}},{\"id\":\"fc73a7e6-7404-4f02-cf0e-21bbb4c021ef\",\"type\":\"Grid\",\"attributes\":{\"dimension\":1,\"plot\":{\"id\":\"2ce6d563-645b-437e-c3e5-955c0880629e\",\"type\":\"Plot\",\"subtype\":\"Figure\"},\"ticker\":{\"type\":\"BasicTicker\",\"id\":\"c1b533d8-3c18-4cdd-cc47-403647fe1018\"},\"id\":\"fc73a7e6-7404-4f02-cf0e-21bbb4c021ef\",\"doc\":null,\"tags\":[]}},{\"id\":\"3341b4ae-cbb7-4b06-cb09-af6b68284b67\",\"type\":\"PanTool\",\"attributes\":{\"plot\":{\"id\":\"2ce6d563-645b-437e-c3e5-955c0880629e\",\"type\":\"Plot\",\"subtype\":\"Figure\"},\"dimensions\":[\"width\",\"height\"],\"id\":\"3341b4ae-cbb7-4b06-cb09-af6b68284b67\",\"doc\":null,\"tags\":[]}},{\"id\":\"4790005a-184c-44cd-c430-d44d8e4487c9\",\"type\":\"WheelZoomTool\",\"attributes\":{\"plot\":{\"id\":\"2ce6d563-645b-437e-c3e5-955c0880629e\",\"type\":\"Plot\",\"subtype\":\"Figure\"},\"dimensions\":[\"width\",\"height\"],\"id\":\"4790005a-184c-44cd-c430-d44d8e4487c9\",\"doc\":null,\"tags\":[]}},{\"id\":\"851d1b8b-11ef-4d4f-cd56-15c4c5291a50\",\"type\":\"BoxZoomTool\",\"attributes\":{\"plot\":{\"id\":\"2ce6d563-645b-437e-c3e5-955c0880629e\",\"type\":\"Plot\",\"subtype\":\"Figure\"},\"id\":\"851d1b8b-11ef-4d4f-cd56-15c4c5291a50\",\"tags\":[],\"doc\":null}},{\"id\":\"edb83bf6-05e3-44b6-c4a2-4de8e78dc2eb\",\"type\":\"PreviewSaveTool\",\"attributes\":{\"plot\":{\"id\":\"2ce6d563-645b-437e-c3e5-955c0880629e\",\"type\":\"Plot\",\"subtype\":\"Figure\"},\"id\":\"edb83bf6-05e3-44b6-c4a2-4de8e78dc2eb\",\"tags\":[],\"doc\":null}},{\"id\":\"9ad64c8d-0dc1-490d-c9da-0dd82bac1e91\",\"type\":\"ResizeTool\",\"attributes\":{\"plot\":{\"id\":\"2ce6d563-645b-437e-c3e5-955c0880629e\",\"type\":\"Plot\",\"subtype\":\"Figure\"},\"id\":\"9ad64c8d-0dc1-490d-c9da-0dd82bac1e91\",\"tags\":[],\"doc\":null}},{\"id\":\"88fe02b4-c305-4443-c4bc-51a48e8ab53c\",\"type\":\"ResetTool\",\"attributes\":{\"plot\":{\"id\":\"2ce6d563-645b-437e-c3e5-955c0880629e\",\"type\":\"Plot\",\"subtype\":\"Figure\"},\"id\":\"88fe02b4-c305-4443-c4bc-51a48e8ab53c\",\"tags\":[],\"doc\":null}},{\"id\":\"3de3aa81-2bc2-4514-c55b-552a597be5ee\",\"type\":\"Legend\",\"attributes\":{\"plot\":{\"id\":\"2ce6d563-645b-437e-c3e5-955c0880629e\",\"type\":\"Plot\",\"subtype\":\"Figure\"},\"legends\":[[\"training_error\",[{\"type\":\"GlyphRenderer\",\"id\":\"bc15cc70-ce9e-41f7-c15e-cf43818825f6\"}]]],\"id\":\"3de3aa81-2bc2-4514-c55b-552a597be5ee\",\"doc\":null,\"tags\":[]}},{\"id\":\"2ce6d563-645b-437e-c3e5-955c0880629e\",\"type\":\"Plot\",\"attributes\":{\"x_range\":{\"type\":\"DataRange1d\",\"id\":\"f58a716c-0919-4ed1-ce81-4532f5591c71\"},\"tool_events\":{\"type\":\"ToolEvents\",\"id\":\"3f6751a2-733b-4934-c931-1d1d86374e94\"},\"below\":[{\"type\":\"LinearAxis\",\"id\":\"6b9474d1-8d60-4850-c806-e7a23f5fff7f\"}],\"renderers\":[{\"type\":\"GlyphRenderer\",\"id\":\"bc15cc70-ce9e-41f7-c15e-cf43818825f6\"},{\"type\":\"LinearAxis\",\"id\":\"6b9474d1-8d60-4850-c806-e7a23f5fff7f\"},{\"type\":\"Grid\",\"id\":\"a49f8f88-172c-43fc-c36e-1e4be944b303\"},{\"type\":\"LinearAxis\",\"id\":\"f7004df0-ddf7-4d03-cdb8-4fa1de6e3bcf\"},{\"type\":\"Grid\",\"id\":\"fc73a7e6-7404-4f02-cf0e-21bbb4c021ef\"},{\"type\":\"Legend\",\"id\":\"3de3aa81-2bc2-4514-c55b-552a597be5ee\"}],\"above\":[],\"tools\":[{\"type\":\"PanTool\",\"id\":\"3341b4ae-cbb7-4b06-cb09-af6b68284b67\"},{\"type\":\"WheelZoomTool\",\"id\":\"4790005a-184c-44cd-c430-d44d8e4487c9\"},{\"type\":\"BoxZoomTool\",\"id\":\"851d1b8b-11ef-4d4f-cd56-15c4c5291a50\"},{\"type\":\"PreviewSaveTool\",\"id\":\"edb83bf6-05e3-44b6-c4a2-4de8e78dc2eb\"},{\"type\":\"ResizeTool\",\"id\":\"9ad64c8d-0dc1-490d-c9da-0dd82bac1e91\"},{\"type\":\"ResetTool\",\"id\":\"88fe02b4-c305-4443-c4bc-51a48e8ab53c\"}],\"doc\":null,\"right\":[],\"title\":\"MSE\",\"extra_x_ranges\":{},\"left\":[{\"type\":\"LinearAxis\",\"id\":\"f7004df0-ddf7-4d03-cdb8-4fa1de6e3bcf\"}],\"y_range\":{\"type\":\"DataRange1d\",\"id\":\"7d0e3034-00f9-433f-c303-8ee9f15f43eb\"},\"id\":\"2ce6d563-645b-437e-c3e5-955c0880629e\",\"extra_y_ranges\":{},\"tags\":[]}}];\n",
       "      Bokeh.load_models(all_models);\n",
       "      var model = Bokeh.Collections(modeltype).get(modelid);\n",
       "      $(\"#30478146-1415-43bc-c354-2f11b7f63741\").html(''); // clear any previous plot in window_id\n",
       "      var view = new model.default_view({model: model, el: \"#30478146-1415-43bc-c354-2f11b7f63741\"});\n",
       "  });\n",
       "    }\n",
       "});\n",
       "</script>\n",
       "<div class=\"plotdiv\" id=\"30478146-1415-43bc-c354-2f11b7f63741\"></div>\n"
      ]
     },
     "metadata": {},
     "output_type": "display_data"
    },
    {
     "data": {
      "text/html": [
       "<script type=\"text/javascript\">\n",
       "$(function() {\n",
       "    if (typeof (window._bokeh_onload_callbacks) === \"undefined\"){\n",
       "  window._bokeh_onload_callbacks = [];\n",
       "    }\n",
       "    function load_lib(url, callback){\n",
       "  window._bokeh_onload_callbacks.push(callback);\n",
       "  if (window._bokeh_is_loading){\n",
       "      console.log(\"Bokeh: BokehJS is being loaded, scheduling callback at\", new Date());\n",
       "      return null;\n",
       "  }\n",
       "  console.log(\"Bokeh: BokehJS not loaded, scheduling load and callback at\", new Date());\n",
       "  window._bokeh_is_loading = true;\n",
       "  var s = document.createElement('script');\n",
       "  s.src = url;\n",
       "  s.async = true;\n",
       "  s.onreadystatechange = s.onload = function(){\n",
       "      Bokeh.embed.inject_css(\"http://cdn.pydata.org/bokeh-0.7.0.min.css\");\n",
       "      window._bokeh_onload_callbacks.forEach(function(callback){callback()});\n",
       "  };\n",
       "  s.onerror = function(){\n",
       "      console.warn(\"failed to load library \" + url);\n",
       "  };\n",
       "  document.getElementsByTagName(\"head\")[0].appendChild(s);\n",
       "    }\n",
       "\n",
       "    bokehjs_url = \"http://cdn.pydata.org/bokeh-0.7.0.min.js\"\n",
       "\n",
       "    var elt = document.getElementById(\"30478146-1415-43bc-c354-2f11b7f63741\");\n",
       "    if(elt==null) {\n",
       "  console.log(\"Bokeh: ERROR: autoload.js configured with elementid '30478146-1415-43bc-c354-2f11b7f63741'\"\n",
       "        + \"but no matching script tag was found. \")\n",
       "  return false;\n",
       "    }\n",
       "\n",
       "    if(typeof(Bokeh) !== \"undefined\") {\n",
       "  console.log(\"Bokeh: BokehJS loaded, going straight to plotting\");\n",
       "  var modelid = \"bf1c741c-5060-4927-c9b9-07391de6e8a4\";\n",
       "  var modeltype = \"Plot\";\n",
       "  var all_models = [{\"id\":\"e4375cef-c895-46d0-c6a9-fab205519e72\",\"type\":\"ColumnDataSource\",\"attributes\":{\"data\":{\"y\":[0.0065027587115765,0.006034703925252,0.005602088291198,0.0052043097093701,0.0048374449834228,0.0044988947920501,0.0041870689019561,0.0038994003552943,0.0036340937949717,0.0033894157968462,0.0031636450439692,0.0029552974738181,0.0027631889097393,0.002585970563814,0.0024220128543675,0.0022706533782184,0.0021310222800821,0.0020020839292556,0.0018827428575605,0.001772896735929,0.0016708843177184,0.0015769632300362,0.0014904839918017,0.0014097094535828,0.0013354240218177,0.0012667094124481,0.0012031707447022,0.0011444606352597,0.0010900015477091,0.0010397194419056,0.00099316355772316,0.00094999058637768,0.00090995180653408,0.00087317044381052,0.00083891552640125,0.00080752518260852,0.00077798642450944,0.00075066112913191,0.00072559894761071,0.00070224126102403,0.000680684694089,0.00066057807998732,0.00064198515610769,0.00062468141550198,0.0006087608053349,0.00059398310258985,0.00058013503439724,0.00056754954857752,0.00055563222849742,0.00054463447304443,0.00053436774760485,0.00052494136616588,0.00051611923845485,0.00050823780475184,0.00050053204176947,0.00049337098607793,0.00048697076272219,0.00048086047172546,0.00047529005678371,0.00047005043597892,0.0004651079652831,0.00046071156975813,0.00045635655988008,0.00045242081978358,0.00044878994231112,0.00044562682160176,0.00044224140583538,0.00043955160072073,0.00043669450678863,0.00043408246710896,0.0004318384162616,0.00042956220568158,0.00042773087625392,0.00042564130853862,0.00042386713903397,0.00042226890218444,0.00042087043402717,0.00041929195867851,0.00041812082054093,0.00041668157791719,0.00041575953946449,0.00041445906390436,0.00041360495379195,0.0004126759886276,0.00041170988697559,0.00041104663978331,0.00041030277498066,0.00040937442099676,0.00040897645521909,0.00040819472633302,0.00040762688149698,0.0004070853756275,0.00040655746124685,0.00040612139855511,0.00040582608198747,0.00040540882037021,0.00040502921910957,0.00040473588160239,0.00040422604070045,0.00040390298818238],\"x\":[1,2,3,4,5,6,7,8,9,10,11,12,13,14,15,16,17,18,19,20,21,22,23,24,25,26,27,28,29,30,31,32,33,34,35,36,37,38,39,40,41,42,43,44,45,46,47,48,49,50,51,52,53,54,55,56,57,58,59,60,61,62,63,64,65,66,67,68,69,70,71,72,73,74,75,76,77,78,79,80,81,82,83,84,85,86,87,88,89,90,91,92,93,94,95,96,97,98,99,100]},\"column_names\":[\"y\",\"x\"],\"cont_ranges\":{},\"discrete_ranges\":{},\"selected\":[],\"id\":\"e4375cef-c895-46d0-c6a9-fab205519e72\",\"doc\":null,\"tags\":[]}},{\"id\":\"648b2e60-e405-4c40-cc5b-fff61141078a\",\"type\":\"Line\",\"attributes\":{\"fill_alpha\":{\"units\":\"data\",\"value\":0.2},\"line_alpha\":{\"units\":\"data\",\"value\":1},\"doc\":null,\"size\":{\"units\":\"screen\",\"value\":10},\"fill_color\":{\"value\":\"blue\"},\"line_color\":{\"value\":\"blue\"},\"x\":{\"units\":\"data\",\"field\":\"x\"},\"id\":\"648b2e60-e405-4c40-cc5b-fff61141078a\",\"y\":{\"units\":\"data\",\"field\":\"y\"},\"tags\":[]}},{\"id\":\"489e075e-014c-4ef5-ce93-ac111bcdfad3\",\"type\":\"Line\",\"attributes\":{\"fill_alpha\":{\"units\":\"data\",\"value\":0.2},\"line_alpha\":{\"units\":\"data\",\"value\":1},\"doc\":null,\"size\":{\"units\":\"screen\",\"value\":10},\"fill_color\":{\"value\":\"blue\"},\"line_color\":{\"value\":\"blue\"},\"x\":{\"units\":\"data\",\"field\":\"x\"},\"id\":\"489e075e-014c-4ef5-ce93-ac111bcdfad3\",\"y\":{\"units\":\"data\",\"field\":\"y\"},\"tags\":[]}},{\"id\":\"4323d333-fe4b-47ae-c720-624cf01f3eae\",\"type\":\"GlyphRenderer\",\"attributes\":{\"name\":null,\"nonselection_glyph\":{\"type\":\"Line\",\"id\":\"489e075e-014c-4ef5-ce93-ac111bcdfad3\"},\"doc\":null,\"server_data_source\":null,\"data_source\":{\"type\":\"ColumnDataSource\",\"id\":\"e4375cef-c895-46d0-c6a9-fab205519e72\"},\"glyph\":{\"type\":\"Line\",\"id\":\"648b2e60-e405-4c40-cc5b-fff61141078a\"},\"selection_glyph\":null,\"id\":\"4323d333-fe4b-47ae-c720-624cf01f3eae\",\"tags\":[]}},{\"id\":\"1aa638fb-0aeb-4e45-cebe-45eea8d8a6e4\",\"type\":\"DataRange1d\",\"attributes\":{\"sources\":[{\"columns\":[\"x\"],\"source\":{\"type\":\"ColumnDataSource\",\"id\":\"e4375cef-c895-46d0-c6a9-fab205519e72\"}}],\"id\":\"1aa638fb-0aeb-4e45-cebe-45eea8d8a6e4\",\"tags\":[],\"doc\":null}},{\"id\":\"a5b6de1d-d2b3-4e39-ce5e-d76a30234d47\",\"type\":\"DataRange1d\",\"attributes\":{\"sources\":[{\"columns\":[\"y\"],\"source\":{\"type\":\"ColumnDataSource\",\"id\":\"e4375cef-c895-46d0-c6a9-fab205519e72\"}}],\"id\":\"a5b6de1d-d2b3-4e39-ce5e-d76a30234d47\",\"tags\":[],\"doc\":null}},{\"id\":\"d8769ff3-60c1-4be2-cbef-3376017c54e6\",\"type\":\"ToolEvents\",\"attributes\":{\"tags\":[],\"id\":\"d8769ff3-60c1-4be2-cbef-3376017c54e6\",\"geometries\":[],\"doc\":null}},{\"id\":\"5cff97a7-73c3-432a-c325-b8d3f3c8984a\",\"type\":\"BasicTickFormatter\",\"attributes\":{\"id\":\"5cff97a7-73c3-432a-c325-b8d3f3c8984a\",\"tags\":[],\"doc\":null}},{\"id\":\"8fece7b3-34f4-4a7d-ca00-df339eec392a\",\"type\":\"BasicTicker\",\"attributes\":{\"num_minor_ticks\":5,\"id\":\"8fece7b3-34f4-4a7d-ca00-df339eec392a\",\"tags\":[],\"doc\":null}},{\"id\":\"51b3bdeb-9054-46ac-c68b-ae4a6f851315\",\"type\":\"LinearAxis\",\"attributes\":{\"formatter\":{\"type\":\"BasicTickFormatter\",\"id\":\"5cff97a7-73c3-432a-c325-b8d3f3c8984a\"},\"ticker\":{\"type\":\"BasicTicker\",\"id\":\"8fece7b3-34f4-4a7d-ca00-df339eec392a\"},\"plot\":{\"id\":\"bf1c741c-5060-4927-c9b9-07391de6e8a4\",\"type\":\"Plot\",\"subtype\":\"Figure\"},\"axis_label\":null,\"id\":\"51b3bdeb-9054-46ac-c68b-ae4a6f851315\",\"doc\":null,\"tags\":[]}},{\"id\":\"4e5f4750-9a88-4fca-cf9f-cd4ce3b7a203\",\"type\":\"Grid\",\"attributes\":{\"dimension\":0,\"plot\":{\"id\":\"bf1c741c-5060-4927-c9b9-07391de6e8a4\",\"type\":\"Plot\",\"subtype\":\"Figure\"},\"ticker\":{\"type\":\"BasicTicker\",\"id\":\"8fece7b3-34f4-4a7d-ca00-df339eec392a\"},\"id\":\"4e5f4750-9a88-4fca-cf9f-cd4ce3b7a203\",\"doc\":null,\"tags\":[]}},{\"id\":\"49fd7e0a-99e4-42c9-c230-569e198fd904\",\"type\":\"BasicTickFormatter\",\"attributes\":{\"id\":\"49fd7e0a-99e4-42c9-c230-569e198fd904\",\"tags\":[],\"doc\":null}},{\"id\":\"71c762a4-7339-4c46-cc34-a9cde1830045\",\"type\":\"BasicTicker\",\"attributes\":{\"num_minor_ticks\":5,\"id\":\"71c762a4-7339-4c46-cc34-a9cde1830045\",\"tags\":[],\"doc\":null}},{\"id\":\"c743e878-2950-4f7e-cfc8-7835840a558a\",\"type\":\"LinearAxis\",\"attributes\":{\"formatter\":{\"type\":\"BasicTickFormatter\",\"id\":\"49fd7e0a-99e4-42c9-c230-569e198fd904\"},\"ticker\":{\"type\":\"BasicTicker\",\"id\":\"71c762a4-7339-4c46-cc34-a9cde1830045\"},\"plot\":{\"id\":\"bf1c741c-5060-4927-c9b9-07391de6e8a4\",\"type\":\"Plot\",\"subtype\":\"Figure\"},\"axis_label\":null,\"id\":\"c743e878-2950-4f7e-cfc8-7835840a558a\",\"doc\":null,\"tags\":[]}},{\"id\":\"80916607-4ec3-4111-c1ce-45221464354c\",\"type\":\"Grid\",\"attributes\":{\"dimension\":1,\"plot\":{\"id\":\"bf1c741c-5060-4927-c9b9-07391de6e8a4\",\"type\":\"Plot\",\"subtype\":\"Figure\"},\"ticker\":{\"type\":\"BasicTicker\",\"id\":\"71c762a4-7339-4c46-cc34-a9cde1830045\"},\"id\":\"80916607-4ec3-4111-c1ce-45221464354c\",\"doc\":null,\"tags\":[]}},{\"id\":\"38bd9b0b-8d2c-432c-c33c-6353b5ddd497\",\"type\":\"PanTool\",\"attributes\":{\"plot\":{\"id\":\"bf1c741c-5060-4927-c9b9-07391de6e8a4\",\"type\":\"Plot\",\"subtype\":\"Figure\"},\"dimensions\":[\"width\",\"height\"],\"id\":\"38bd9b0b-8d2c-432c-c33c-6353b5ddd497\",\"doc\":null,\"tags\":[]}},{\"id\":\"38e71985-908a-4f41-cfdb-a4f2127a8589\",\"type\":\"WheelZoomTool\",\"attributes\":{\"plot\":{\"id\":\"bf1c741c-5060-4927-c9b9-07391de6e8a4\",\"type\":\"Plot\",\"subtype\":\"Figure\"},\"dimensions\":[\"width\",\"height\"],\"id\":\"38e71985-908a-4f41-cfdb-a4f2127a8589\",\"doc\":null,\"tags\":[]}},{\"id\":\"fb1c0a8c-3974-4ba7-cb54-d027d9fce98f\",\"type\":\"BoxZoomTool\",\"attributes\":{\"plot\":{\"id\":\"bf1c741c-5060-4927-c9b9-07391de6e8a4\",\"type\":\"Plot\",\"subtype\":\"Figure\"},\"id\":\"fb1c0a8c-3974-4ba7-cb54-d027d9fce98f\",\"tags\":[],\"doc\":null}},{\"id\":\"3d45818a-b5bc-48e0-c871-129881dfe385\",\"type\":\"PreviewSaveTool\",\"attributes\":{\"plot\":{\"id\":\"bf1c741c-5060-4927-c9b9-07391de6e8a4\",\"type\":\"Plot\",\"subtype\":\"Figure\"},\"id\":\"3d45818a-b5bc-48e0-c871-129881dfe385\",\"tags\":[],\"doc\":null}},{\"id\":\"bb20367c-45be-4187-c160-91a65e1b87ee\",\"type\":\"ResizeTool\",\"attributes\":{\"plot\":{\"id\":\"bf1c741c-5060-4927-c9b9-07391de6e8a4\",\"type\":\"Plot\",\"subtype\":\"Figure\"},\"id\":\"bb20367c-45be-4187-c160-91a65e1b87ee\",\"tags\":[],\"doc\":null}},{\"id\":\"75deb4e1-de4b-4277-c2b6-03402a290f7d\",\"type\":\"ResetTool\",\"attributes\":{\"plot\":{\"id\":\"bf1c741c-5060-4927-c9b9-07391de6e8a4\",\"type\":\"Plot\",\"subtype\":\"Figure\"},\"id\":\"75deb4e1-de4b-4277-c2b6-03402a290f7d\",\"tags\":[],\"doc\":null}},{\"id\":\"c77fc70e-c027-4bdd-cb74-9efe64b30c3f\",\"type\":\"Legend\",\"attributes\":{\"plot\":{\"id\":\"bf1c741c-5060-4927-c9b9-07391de6e8a4\",\"type\":\"Plot\",\"subtype\":\"Figure\"},\"legends\":[[\"training_error\",[{\"type\":\"GlyphRenderer\",\"id\":\"4323d333-fe4b-47ae-c720-624cf01f3eae\"}]]],\"id\":\"c77fc70e-c027-4bdd-cb74-9efe64b30c3f\",\"doc\":null,\"tags\":[]}},{\"id\":\"bf1c741c-5060-4927-c9b9-07391de6e8a4\",\"type\":\"Plot\",\"attributes\":{\"x_range\":{\"type\":\"DataRange1d\",\"id\":\"1aa638fb-0aeb-4e45-cebe-45eea8d8a6e4\"},\"tool_events\":{\"type\":\"ToolEvents\",\"id\":\"d8769ff3-60c1-4be2-cbef-3376017c54e6\"},\"below\":[{\"type\":\"LinearAxis\",\"id\":\"51b3bdeb-9054-46ac-c68b-ae4a6f851315\"}],\"renderers\":[{\"type\":\"GlyphRenderer\",\"id\":\"4323d333-fe4b-47ae-c720-624cf01f3eae\"},{\"type\":\"LinearAxis\",\"id\":\"51b3bdeb-9054-46ac-c68b-ae4a6f851315\"},{\"type\":\"Grid\",\"id\":\"4e5f4750-9a88-4fca-cf9f-cd4ce3b7a203\"},{\"type\":\"LinearAxis\",\"id\":\"c743e878-2950-4f7e-cfc8-7835840a558a\"},{\"type\":\"Grid\",\"id\":\"80916607-4ec3-4111-c1ce-45221464354c\"},{\"type\":\"Legend\",\"id\":\"c77fc70e-c027-4bdd-cb74-9efe64b30c3f\"}],\"above\":[],\"tools\":[{\"type\":\"PanTool\",\"id\":\"38bd9b0b-8d2c-432c-c33c-6353b5ddd497\"},{\"type\":\"WheelZoomTool\",\"id\":\"38e71985-908a-4f41-cfdb-a4f2127a8589\"},{\"type\":\"BoxZoomTool\",\"id\":\"fb1c0a8c-3974-4ba7-cb54-d027d9fce98f\"},{\"type\":\"PreviewSaveTool\",\"id\":\"3d45818a-b5bc-48e0-c871-129881dfe385\"},{\"type\":\"ResizeTool\",\"id\":\"bb20367c-45be-4187-c160-91a65e1b87ee\"},{\"type\":\"ResetTool\",\"id\":\"75deb4e1-de4b-4277-c2b6-03402a290f7d\"}],\"doc\":null,\"right\":[],\"title\":\"MSE\",\"extra_x_ranges\":{},\"left\":[{\"type\":\"LinearAxis\",\"id\":\"c743e878-2950-4f7e-cfc8-7835840a558a\"}],\"y_range\":{\"type\":\"DataRange1d\",\"id\":\"a5b6de1d-d2b3-4e39-ce5e-d76a30234d47\"},\"id\":\"bf1c741c-5060-4927-c9b9-07391de6e8a4\",\"extra_y_ranges\":{},\"tags\":[]}}];\n",
       "  Bokeh.load_models(all_models);\n",
       "  var model = Bokeh.Collections(modeltype).get(modelid);\n",
       "  $(\"#30478146-1415-43bc-c354-2f11b7f63741\").html(''); // clear any previous plot in window_id\n",
       "  var view = new model.default_view({model: model, el: \"#30478146-1415-43bc-c354-2f11b7f63741\"});\n",
       "    } else {\n",
       "  load_lib(bokehjs_url, function() {\n",
       "      console.log(\"Bokeh: BokehJS plotting callback run at\", new Date())\n",
       "      var modelid = \"bf1c741c-5060-4927-c9b9-07391de6e8a4\";\n",
       "      var modeltype = \"Plot\";\n",
       "      var all_models = [{\"id\":\"e4375cef-c895-46d0-c6a9-fab205519e72\",\"type\":\"ColumnDataSource\",\"attributes\":{\"data\":{\"y\":[0.0065027587115765,0.006034703925252,0.005602088291198,0.0052043097093701,0.0048374449834228,0.0044988947920501,0.0041870689019561,0.0038994003552943,0.0036340937949717,0.0033894157968462,0.0031636450439692,0.0029552974738181,0.0027631889097393,0.002585970563814,0.0024220128543675,0.0022706533782184,0.0021310222800821,0.0020020839292556,0.0018827428575605,0.001772896735929,0.0016708843177184,0.0015769632300362,0.0014904839918017,0.0014097094535828,0.0013354240218177,0.0012667094124481,0.0012031707447022,0.0011444606352597,0.0010900015477091,0.0010397194419056,0.00099316355772316,0.00094999058637768,0.00090995180653408,0.00087317044381052,0.00083891552640125,0.00080752518260852,0.00077798642450944,0.00075066112913191,0.00072559894761071,0.00070224126102403,0.000680684694089,0.00066057807998732,0.00064198515610769,0.00062468141550198,0.0006087608053349,0.00059398310258985,0.00058013503439724,0.00056754954857752,0.00055563222849742,0.00054463447304443,0.00053436774760485,0.00052494136616588,0.00051611923845485,0.00050823780475184,0.00050053204176947,0.00049337098607793,0.00048697076272219,0.00048086047172546,0.00047529005678371,0.00047005043597892,0.0004651079652831,0.00046071156975813,0.00045635655988008,0.00045242081978358,0.00044878994231112,0.00044562682160176,0.00044224140583538,0.00043955160072073,0.00043669450678863,0.00043408246710896,0.0004318384162616,0.00042956220568158,0.00042773087625392,0.00042564130853862,0.00042386713903397,0.00042226890218444,0.00042087043402717,0.00041929195867851,0.00041812082054093,0.00041668157791719,0.00041575953946449,0.00041445906390436,0.00041360495379195,0.0004126759886276,0.00041170988697559,0.00041104663978331,0.00041030277498066,0.00040937442099676,0.00040897645521909,0.00040819472633302,0.00040762688149698,0.0004070853756275,0.00040655746124685,0.00040612139855511,0.00040582608198747,0.00040540882037021,0.00040502921910957,0.00040473588160239,0.00040422604070045,0.00040390298818238],\"x\":[1,2,3,4,5,6,7,8,9,10,11,12,13,14,15,16,17,18,19,20,21,22,23,24,25,26,27,28,29,30,31,32,33,34,35,36,37,38,39,40,41,42,43,44,45,46,47,48,49,50,51,52,53,54,55,56,57,58,59,60,61,62,63,64,65,66,67,68,69,70,71,72,73,74,75,76,77,78,79,80,81,82,83,84,85,86,87,88,89,90,91,92,93,94,95,96,97,98,99,100]},\"column_names\":[\"y\",\"x\"],\"cont_ranges\":{},\"discrete_ranges\":{},\"selected\":[],\"id\":\"e4375cef-c895-46d0-c6a9-fab205519e72\",\"doc\":null,\"tags\":[]}},{\"id\":\"648b2e60-e405-4c40-cc5b-fff61141078a\",\"type\":\"Line\",\"attributes\":{\"fill_alpha\":{\"units\":\"data\",\"value\":0.2},\"line_alpha\":{\"units\":\"data\",\"value\":1},\"doc\":null,\"size\":{\"units\":\"screen\",\"value\":10},\"fill_color\":{\"value\":\"blue\"},\"line_color\":{\"value\":\"blue\"},\"x\":{\"units\":\"data\",\"field\":\"x\"},\"id\":\"648b2e60-e405-4c40-cc5b-fff61141078a\",\"y\":{\"units\":\"data\",\"field\":\"y\"},\"tags\":[]}},{\"id\":\"489e075e-014c-4ef5-ce93-ac111bcdfad3\",\"type\":\"Line\",\"attributes\":{\"fill_alpha\":{\"units\":\"data\",\"value\":0.2},\"line_alpha\":{\"units\":\"data\",\"value\":1},\"doc\":null,\"size\":{\"units\":\"screen\",\"value\":10},\"fill_color\":{\"value\":\"blue\"},\"line_color\":{\"value\":\"blue\"},\"x\":{\"units\":\"data\",\"field\":\"x\"},\"id\":\"489e075e-014c-4ef5-ce93-ac111bcdfad3\",\"y\":{\"units\":\"data\",\"field\":\"y\"},\"tags\":[]}},{\"id\":\"4323d333-fe4b-47ae-c720-624cf01f3eae\",\"type\":\"GlyphRenderer\",\"attributes\":{\"name\":null,\"nonselection_glyph\":{\"type\":\"Line\",\"id\":\"489e075e-014c-4ef5-ce93-ac111bcdfad3\"},\"doc\":null,\"server_data_source\":null,\"data_source\":{\"type\":\"ColumnDataSource\",\"id\":\"e4375cef-c895-46d0-c6a9-fab205519e72\"},\"glyph\":{\"type\":\"Line\",\"id\":\"648b2e60-e405-4c40-cc5b-fff61141078a\"},\"selection_glyph\":null,\"id\":\"4323d333-fe4b-47ae-c720-624cf01f3eae\",\"tags\":[]}},{\"id\":\"1aa638fb-0aeb-4e45-cebe-45eea8d8a6e4\",\"type\":\"DataRange1d\",\"attributes\":{\"sources\":[{\"columns\":[\"x\"],\"source\":{\"type\":\"ColumnDataSource\",\"id\":\"e4375cef-c895-46d0-c6a9-fab205519e72\"}}],\"id\":\"1aa638fb-0aeb-4e45-cebe-45eea8d8a6e4\",\"tags\":[],\"doc\":null}},{\"id\":\"a5b6de1d-d2b3-4e39-ce5e-d76a30234d47\",\"type\":\"DataRange1d\",\"attributes\":{\"sources\":[{\"columns\":[\"y\"],\"source\":{\"type\":\"ColumnDataSource\",\"id\":\"e4375cef-c895-46d0-c6a9-fab205519e72\"}}],\"id\":\"a5b6de1d-d2b3-4e39-ce5e-d76a30234d47\",\"tags\":[],\"doc\":null}},{\"id\":\"d8769ff3-60c1-4be2-cbef-3376017c54e6\",\"type\":\"ToolEvents\",\"attributes\":{\"tags\":[],\"id\":\"d8769ff3-60c1-4be2-cbef-3376017c54e6\",\"geometries\":[],\"doc\":null}},{\"id\":\"5cff97a7-73c3-432a-c325-b8d3f3c8984a\",\"type\":\"BasicTickFormatter\",\"attributes\":{\"id\":\"5cff97a7-73c3-432a-c325-b8d3f3c8984a\",\"tags\":[],\"doc\":null}},{\"id\":\"8fece7b3-34f4-4a7d-ca00-df339eec392a\",\"type\":\"BasicTicker\",\"attributes\":{\"num_minor_ticks\":5,\"id\":\"8fece7b3-34f4-4a7d-ca00-df339eec392a\",\"tags\":[],\"doc\":null}},{\"id\":\"51b3bdeb-9054-46ac-c68b-ae4a6f851315\",\"type\":\"LinearAxis\",\"attributes\":{\"formatter\":{\"type\":\"BasicTickFormatter\",\"id\":\"5cff97a7-73c3-432a-c325-b8d3f3c8984a\"},\"ticker\":{\"type\":\"BasicTicker\",\"id\":\"8fece7b3-34f4-4a7d-ca00-df339eec392a\"},\"plot\":{\"id\":\"bf1c741c-5060-4927-c9b9-07391de6e8a4\",\"type\":\"Plot\",\"subtype\":\"Figure\"},\"axis_label\":null,\"id\":\"51b3bdeb-9054-46ac-c68b-ae4a6f851315\",\"doc\":null,\"tags\":[]}},{\"id\":\"4e5f4750-9a88-4fca-cf9f-cd4ce3b7a203\",\"type\":\"Grid\",\"attributes\":{\"dimension\":0,\"plot\":{\"id\":\"bf1c741c-5060-4927-c9b9-07391de6e8a4\",\"type\":\"Plot\",\"subtype\":\"Figure\"},\"ticker\":{\"type\":\"BasicTicker\",\"id\":\"8fece7b3-34f4-4a7d-ca00-df339eec392a\"},\"id\":\"4e5f4750-9a88-4fca-cf9f-cd4ce3b7a203\",\"doc\":null,\"tags\":[]}},{\"id\":\"49fd7e0a-99e4-42c9-c230-569e198fd904\",\"type\":\"BasicTickFormatter\",\"attributes\":{\"id\":\"49fd7e0a-99e4-42c9-c230-569e198fd904\",\"tags\":[],\"doc\":null}},{\"id\":\"71c762a4-7339-4c46-cc34-a9cde1830045\",\"type\":\"BasicTicker\",\"attributes\":{\"num_minor_ticks\":5,\"id\":\"71c762a4-7339-4c46-cc34-a9cde1830045\",\"tags\":[],\"doc\":null}},{\"id\":\"c743e878-2950-4f7e-cfc8-7835840a558a\",\"type\":\"LinearAxis\",\"attributes\":{\"formatter\":{\"type\":\"BasicTickFormatter\",\"id\":\"49fd7e0a-99e4-42c9-c230-569e198fd904\"},\"ticker\":{\"type\":\"BasicTicker\",\"id\":\"71c762a4-7339-4c46-cc34-a9cde1830045\"},\"plot\":{\"id\":\"bf1c741c-5060-4927-c9b9-07391de6e8a4\",\"type\":\"Plot\",\"subtype\":\"Figure\"},\"axis_label\":null,\"id\":\"c743e878-2950-4f7e-cfc8-7835840a558a\",\"doc\":null,\"tags\":[]}},{\"id\":\"80916607-4ec3-4111-c1ce-45221464354c\",\"type\":\"Grid\",\"attributes\":{\"dimension\":1,\"plot\":{\"id\":\"bf1c741c-5060-4927-c9b9-07391de6e8a4\",\"type\":\"Plot\",\"subtype\":\"Figure\"},\"ticker\":{\"type\":\"BasicTicker\",\"id\":\"71c762a4-7339-4c46-cc34-a9cde1830045\"},\"id\":\"80916607-4ec3-4111-c1ce-45221464354c\",\"doc\":null,\"tags\":[]}},{\"id\":\"38bd9b0b-8d2c-432c-c33c-6353b5ddd497\",\"type\":\"PanTool\",\"attributes\":{\"plot\":{\"id\":\"bf1c741c-5060-4927-c9b9-07391de6e8a4\",\"type\":\"Plot\",\"subtype\":\"Figure\"},\"dimensions\":[\"width\",\"height\"],\"id\":\"38bd9b0b-8d2c-432c-c33c-6353b5ddd497\",\"doc\":null,\"tags\":[]}},{\"id\":\"38e71985-908a-4f41-cfdb-a4f2127a8589\",\"type\":\"WheelZoomTool\",\"attributes\":{\"plot\":{\"id\":\"bf1c741c-5060-4927-c9b9-07391de6e8a4\",\"type\":\"Plot\",\"subtype\":\"Figure\"},\"dimensions\":[\"width\",\"height\"],\"id\":\"38e71985-908a-4f41-cfdb-a4f2127a8589\",\"doc\":null,\"tags\":[]}},{\"id\":\"fb1c0a8c-3974-4ba7-cb54-d027d9fce98f\",\"type\":\"BoxZoomTool\",\"attributes\":{\"plot\":{\"id\":\"bf1c741c-5060-4927-c9b9-07391de6e8a4\",\"type\":\"Plot\",\"subtype\":\"Figure\"},\"id\":\"fb1c0a8c-3974-4ba7-cb54-d027d9fce98f\",\"tags\":[],\"doc\":null}},{\"id\":\"3d45818a-b5bc-48e0-c871-129881dfe385\",\"type\":\"PreviewSaveTool\",\"attributes\":{\"plot\":{\"id\":\"bf1c741c-5060-4927-c9b9-07391de6e8a4\",\"type\":\"Plot\",\"subtype\":\"Figure\"},\"id\":\"3d45818a-b5bc-48e0-c871-129881dfe385\",\"tags\":[],\"doc\":null}},{\"id\":\"bb20367c-45be-4187-c160-91a65e1b87ee\",\"type\":\"ResizeTool\",\"attributes\":{\"plot\":{\"id\":\"bf1c741c-5060-4927-c9b9-07391de6e8a4\",\"type\":\"Plot\",\"subtype\":\"Figure\"},\"id\":\"bb20367c-45be-4187-c160-91a65e1b87ee\",\"tags\":[],\"doc\":null}},{\"id\":\"75deb4e1-de4b-4277-c2b6-03402a290f7d\",\"type\":\"ResetTool\",\"attributes\":{\"plot\":{\"id\":\"bf1c741c-5060-4927-c9b9-07391de6e8a4\",\"type\":\"Plot\",\"subtype\":\"Figure\"},\"id\":\"75deb4e1-de4b-4277-c2b6-03402a290f7d\",\"tags\":[],\"doc\":null}},{\"id\":\"c77fc70e-c027-4bdd-cb74-9efe64b30c3f\",\"type\":\"Legend\",\"attributes\":{\"plot\":{\"id\":\"bf1c741c-5060-4927-c9b9-07391de6e8a4\",\"type\":\"Plot\",\"subtype\":\"Figure\"},\"legends\":[[\"training_error\",[{\"type\":\"GlyphRenderer\",\"id\":\"4323d333-fe4b-47ae-c720-624cf01f3eae\"}]]],\"id\":\"c77fc70e-c027-4bdd-cb74-9efe64b30c3f\",\"doc\":null,\"tags\":[]}},{\"id\":\"bf1c741c-5060-4927-c9b9-07391de6e8a4\",\"type\":\"Plot\",\"attributes\":{\"x_range\":{\"type\":\"DataRange1d\",\"id\":\"1aa638fb-0aeb-4e45-cebe-45eea8d8a6e4\"},\"tool_events\":{\"type\":\"ToolEvents\",\"id\":\"d8769ff3-60c1-4be2-cbef-3376017c54e6\"},\"below\":[{\"type\":\"LinearAxis\",\"id\":\"51b3bdeb-9054-46ac-c68b-ae4a6f851315\"}],\"renderers\":[{\"type\":\"GlyphRenderer\",\"id\":\"4323d333-fe4b-47ae-c720-624cf01f3eae\"},{\"type\":\"LinearAxis\",\"id\":\"51b3bdeb-9054-46ac-c68b-ae4a6f851315\"},{\"type\":\"Grid\",\"id\":\"4e5f4750-9a88-4fca-cf9f-cd4ce3b7a203\"},{\"type\":\"LinearAxis\",\"id\":\"c743e878-2950-4f7e-cfc8-7835840a558a\"},{\"type\":\"Grid\",\"id\":\"80916607-4ec3-4111-c1ce-45221464354c\"},{\"type\":\"Legend\",\"id\":\"c77fc70e-c027-4bdd-cb74-9efe64b30c3f\"}],\"above\":[],\"tools\":[{\"type\":\"PanTool\",\"id\":\"38bd9b0b-8d2c-432c-c33c-6353b5ddd497\"},{\"type\":\"WheelZoomTool\",\"id\":\"38e71985-908a-4f41-cfdb-a4f2127a8589\"},{\"type\":\"BoxZoomTool\",\"id\":\"fb1c0a8c-3974-4ba7-cb54-d027d9fce98f\"},{\"type\":\"PreviewSaveTool\",\"id\":\"3d45818a-b5bc-48e0-c871-129881dfe385\"},{\"type\":\"ResizeTool\",\"id\":\"bb20367c-45be-4187-c160-91a65e1b87ee\"},{\"type\":\"ResetTool\",\"id\":\"75deb4e1-de4b-4277-c2b6-03402a290f7d\"}],\"doc\":null,\"right\":[],\"title\":\"MSE\",\"extra_x_ranges\":{},\"left\":[{\"type\":\"LinearAxis\",\"id\":\"c743e878-2950-4f7e-cfc8-7835840a558a\"}],\"y_range\":{\"type\":\"DataRange1d\",\"id\":\"a5b6de1d-d2b3-4e39-ce5e-d76a30234d47\"},\"id\":\"bf1c741c-5060-4927-c9b9-07391de6e8a4\",\"extra_y_ranges\":{},\"tags\":[]}}];\n",
       "      Bokeh.load_models(all_models);\n",
       "      var model = Bokeh.Collections(modeltype).get(modelid);\n",
       "      $(\"#30478146-1415-43bc-c354-2f11b7f63741\").html(''); // clear any previous plot in window_id\n",
       "      var view = new model.default_view({model: model, el: \"#30478146-1415-43bc-c354-2f11b7f63741\"});\n",
       "  });\n",
       "    }\n",
       "});\n",
       "</script>\n",
       "<div class=\"plotdiv\" id=\"6761a806-b16f-4d65-cdfb-ac8a32d052d3\"></div>\n"
      ]
     },
     "metadata": {},
     "output_type": "display_data"
    }
   ],
   "source": [
    "Plot = require 'itorch.Plot'\n",
    "\n",
    "for name, list in pairs( logger.symbols ) do\n",
    "    y = torch.Tensor( list )\n",
    "    x = torch.linspace( 1, #list, #list )\n",
    "    plot = Plot():line( x, y ,'blue', name ):legend(true):title('MSE'):draw()\n",
    "end\n",
    "plot:redraw()"
   ]
  }
 ],
 "metadata": {
  "kernelspec": {
   "display_name": "iTorch",
   "language": "lua",
   "name": "itorch"
  },
  "language_info": {
   "name": "lua",
   "version": "20100"
  }
 },
 "nbformat": 4,
 "nbformat_minor": 0
}
