{
 "metadata": {
  "name": ""
 },
 "nbformat": 3,
 "nbformat_minor": 0,
 "worksheets": [
  {
   "cells": [
    {
     "cell_type": "markdown",
     "metadata": {},
     "source": [
      "Support Vector Machines have really nice math behind it.  Let's take a look how this algorithm will fare in our classfication problem."
     ]
    },
    {
     "cell_type": "code",
     "collapsed": false,
     "input": [
      "%matplotlib inline\n",
      "\n",
      "import numpy as np\n",
      "import matplotlib.pyplot as plt\n",
      "\n",
      "from sklearn import datasets, svm\n",
      "from sklearn.cross_validation import train_test_split, KFold\n",
      "from sklearn.grid_search import GridSearchCV\n",
      "\n",
      "digits = datasets.load_digits()\n",
      "\n",
      "# split dataset into train and test\n",
      "X_train, X_test, y_train, y_test = train_test_split( digits.data, \n",
      "                                                    digits.target,\n",
      "                                                    test_size=0.33 )\n",
      "\n",
      "clf = svm.LinearSVC(penalty='l1', loss='squared_hinge',\n",
      "                    dual=False, tol=1e-3 )\n",
      "\n",
      "# parameters for grid search\n",
      "param_grid = dict( C=np.logspace(-2.3, -1.3, 10) )\n",
      "\n",
      "# we will use grid search to choose \"optimal\" hyperparameters\n",
      "grid = GridSearchCV(clf, refit=False, param_grid=param_grid,\n",
      "                            cv=KFold( len( X_train ), 30 ) )\n",
      "grid.fit( X_train, y_train )"
     ],
     "language": "python",
     "metadata": {},
     "outputs": [
      {
       "metadata": {},
       "output_type": "pyout",
       "prompt_number": 1,
       "text": [
        "GridSearchCV(cv=sklearn.cross_validation.KFold(n=1203, n_folds=30, shuffle=False, random_state=None),\n",
        "       error_score='raise',\n",
        "       estimator=LinearSVC(C=1.0, class_weight=None, dual=False, fit_intercept=True,\n",
        "     intercept_scaling=1, loss='squared_hinge', max_iter=1000,\n",
        "     multi_class='ovr', penalty='l1', random_state=None, tol=0.001,\n",
        "     verbose=0),\n",
        "       fit_params={}, iid=True, loss_func=None, n_jobs=1,\n",
        "       param_grid={'C': array([ 0.00501,  0.00647,  0.00836,  0.0108 ,  0.01395,  0.01801,\n",
        "        0.02326,  0.03005,  0.03881,  0.05012])},\n",
        "       pre_dispatch='2*n_jobs', refit=False, score_func=None, scoring=None,\n",
        "       verbose=0)"
       ]
      }
     ],
     "prompt_number": 1
    },
    {
     "cell_type": "code",
     "collapsed": false,
     "input": [
      "# fit over entire train dataset\n",
      "clf.C = grid.best_params_[ 'C' ]\n",
      "clf.fit( X_train, y_train )\n",
      "\n",
      "# run tests\n",
      "print( 'Test score:{0}'.format( clf.score( X_test, y_test ) ) )"
     ],
     "language": "python",
     "metadata": {},
     "outputs": [
      {
       "output_type": "stream",
       "stream": "stdout",
       "text": [
        "Test score:0.959595959596\n"
       ]
      }
     ],
     "prompt_number": 2
    }
   ],
   "metadata": {}
  }
 ]
}